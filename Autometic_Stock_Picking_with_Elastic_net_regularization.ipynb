{
 "cells": [
  {
   "cell_type": "markdown",
   "metadata": {},
   "source": [
    "# Automatic Stock Picking\n",
    "\n",
    "## Low Frequency Stock Trading Algorithm\n",
    " * Stock picking using annual stock return and accounting characteristics (Factors)\n",
    " * Creating Mean Variance Efficient portfolio using Elastic Net Shrikage (Combination of Ridge and Lasso)\n",
    " * In sample data: 1980 - 2004\n",
    " * Out of sample data: 2005 - 2015 (to verify the portfolio performance)\n"
   ]
  },
  {
   "cell_type": "code",
   "execution_count": 171,
   "metadata": {},
   "outputs": [],
   "source": [
    "options(warn=-1)\n",
    "if (!require(ggplot2)) install.packages(\"ggplot2\")\n",
    "if (!require(data.table)) install.packages(\"data.table\")\n",
    "if (!require(foreign)) install.packages(\"foreign\")\n",
    "if (!require(lfe)) install.packages(\"lfe\")\n",
    "if (!require(glmnet)) install.packages(\"glmnet\")\n",
    "if (!require(Metrics)) install.packages(\"Metrics\")\n",
    "suppressWarnings(suppressMessages(if (!require(Kable)) install.packages(\"Kable\")))\n",
    "suppressWarnings(suppressMessages(if (!require(expss)) install.packages(\"expss\")))\n",
    "                                  "
   ]
  },
  {
   "cell_type": "markdown",
   "metadata": {},
   "source": [
    "## Data Set"
   ]
  },
  {
   "cell_type": "code",
   "execution_count": 172,
   "metadata": {},
   "outputs": [],
   "source": [
    "setwd('D:/MFE/Curriculum/Fall 2018/Machine Learning/PS4')\n",
    "StockRetAcct_DT = as.data.table(read.dta(\"StockRetAcct_insample.dta\"))"
   ]
  },
  {
   "cell_type": "code",
   "execution_count": 173,
   "metadata": {},
   "outputs": [
    {
     "data": {
      "text/html": [
       "<table>\n",
       "<thead><tr><th scope=col>FirmID</th><th scope=col>year</th><th scope=col>lnAnnRet</th><th scope=col>lnRf</th><th scope=col>MEwt</th><th scope=col>lnIssue</th><th scope=col>lnMom</th><th scope=col>lnME</th><th scope=col>lnProf</th><th scope=col>lnEP</th><th scope=col>lnInv</th><th scope=col>lnLever</th><th scope=col>lnROE</th><th scope=col>rv</th><th scope=col>lnBM</th><th scope=col>ff_ind</th></tr></thead>\n",
       "<tbody>\n",
       "\t<tr><td> 6          </td><td>1980        </td><td> 0.3636313  </td><td>0.07894428  </td><td>2.814308e-04</td><td> 0.03134417 </td><td> 0.07535515 </td><td>12.58147    </td><td> 0.2017671  </td><td> 0.14641121 </td><td> 0.09362611 </td><td>0.6960014   </td><td> 0.09529421 </td><td>0.08413413  </td><td> 0.6333913  </td><td> 3          </td></tr>\n",
       "\t<tr><td> 6          </td><td>1981        </td><td>-0.2904088  </td><td>0.13019902  </td><td>3.214631e-04</td><td> 0.04421350 </td><td> 0.51265192 </td><td>12.90800    </td><td> 0.2156609  </td><td> 0.10255504 </td><td> 0.08724214 </td><td>0.7098430   </td><td> 0.08217967 </td><td>0.05638131  </td><td> 0.3567226  </td><td> 3          </td></tr>\n",
       "\t<tr><td> 6          </td><td>1982        </td><td> 0.1866300  </td><td>0.13070259  </td><td>2.663127e-04</td><td>-0.06819496 </td><td>-0.22050542 </td><td>12.55777    </td><td> 0.1840875  </td><td> 0.11954752 </td><td> 0.11166344 </td><td>0.7309716   </td><td> 0.07951558 </td><td>0.06207170  </td><td> 0.7794052  </td><td> 3          </td></tr>\n",
       "\t<tr><td> 6          </td><td>1983        </td><td> 0.4898190  </td><td>0.08983046  </td><td>1.699149e-04</td><td>-0.07177968 </td><td> 0.04621762 </td><td>12.56195    </td><td> 0.1655312  </td><td> 0.11592383 </td><td>-0.03311720 </td><td>0.7108847   </td><td> 0.05537406 </td><td>0.07695480  </td><td> 0.7021134  </td><td> 3          </td></tr>\n",
       "\t<tr><td>10          </td><td>1991        </td><td>-0.5080047  </td><td>0.06121579  </td><td>3.269729e-05</td><td> 0.11520413 </td><td> 1.34105313 </td><td>11.56583    </td><td> 0.2397878  </td><td> 0.02314729 </td><td> 0.30005118 </td><td>0.4187644   </td><td> 0.14682838 </td><td>0.37436786  </td><td>-2.1609421  </td><td>10          </td></tr>\n",
       "\t<tr><td>12          </td><td>2000        </td><td>-1.3568472  </td><td>0.06197736  </td><td>1.219181e-05</td><td> 0.16523764 </td><td> 0.25174579 </td><td>12.27575    </td><td>-0.3823268  </td><td>-0.02378274 </td><td>-0.17460629 </td><td>0.8244712   </td><td>-0.59177256 </td><td>1.06719565  </td><td>-3.8155227  </td><td> 6          </td></tr>\n",
       "</tbody>\n",
       "</table>\n"
      ],
      "text/latex": [
       "\\begin{tabular}{r|llllllllllllllll}\n",
       " FirmID & year & lnAnnRet & lnRf & MEwt & lnIssue & lnMom & lnME & lnProf & lnEP & lnInv & lnLever & lnROE & rv & lnBM & ff\\_ind\\\\\n",
       "\\hline\n",
       "\t  6           & 1980         &  0.3636313   & 0.07894428   & 2.814308e-04 &  0.03134417  &  0.07535515  & 12.58147     &  0.2017671   &  0.14641121  &  0.09362611  & 0.6960014    &  0.09529421  & 0.08413413   &  0.6333913   &  3          \\\\\n",
       "\t  6           & 1981         & -0.2904088   & 0.13019902   & 3.214631e-04 &  0.04421350  &  0.51265192  & 12.90800     &  0.2156609   &  0.10255504  &  0.08724214  & 0.7098430    &  0.08217967  & 0.05638131   &  0.3567226   &  3          \\\\\n",
       "\t  6           & 1982         &  0.1866300   & 0.13070259   & 2.663127e-04 & -0.06819496  & -0.22050542  & 12.55777     &  0.1840875   &  0.11954752  &  0.11166344  & 0.7309716    &  0.07951558  & 0.06207170   &  0.7794052   &  3          \\\\\n",
       "\t  6           & 1983         &  0.4898190   & 0.08983046   & 1.699149e-04 & -0.07177968  &  0.04621762  & 12.56195     &  0.1655312   &  0.11592383  & -0.03311720  & 0.7108847    &  0.05537406  & 0.07695480   &  0.7021134   &  3          \\\\\n",
       "\t 10           & 1991         & -0.5080047   & 0.06121579   & 3.269729e-05 &  0.11520413  &  1.34105313  & 11.56583     &  0.2397878   &  0.02314729  &  0.30005118  & 0.4187644    &  0.14682838  & 0.37436786   & -2.1609421   & 10          \\\\\n",
       "\t 12           & 2000         & -1.3568472   & 0.06197736   & 1.219181e-05 &  0.16523764  &  0.25174579  & 12.27575     & -0.3823268   & -0.02378274  & -0.17460629  & 0.8244712    & -0.59177256  & 1.06719565   & -3.8155227   &  6          \\\\\n",
       "\\end{tabular}\n"
      ],
      "text/markdown": [
       "\n",
       "FirmID | year | lnAnnRet | lnRf | MEwt | lnIssue | lnMom | lnME | lnProf | lnEP | lnInv | lnLever | lnROE | rv | lnBM | ff_ind | \n",
       "|---|---|---|---|---|---|\n",
       "|  6           | 1980         |  0.3636313   | 0.07894428   | 2.814308e-04 |  0.03134417  |  0.07535515  | 12.58147     |  0.2017671   |  0.14641121  |  0.09362611  | 0.6960014    |  0.09529421  | 0.08413413   |  0.6333913   |  3           | \n",
       "|  6           | 1981         | -0.2904088   | 0.13019902   | 3.214631e-04 |  0.04421350  |  0.51265192  | 12.90800     |  0.2156609   |  0.10255504  |  0.08724214  | 0.7098430    |  0.08217967  | 0.05638131   |  0.3567226   |  3           | \n",
       "|  6           | 1982         |  0.1866300   | 0.13070259   | 2.663127e-04 | -0.06819496  | -0.22050542  | 12.55777     |  0.1840875   |  0.11954752  |  0.11166344  | 0.7309716    |  0.07951558  | 0.06207170   |  0.7794052   |  3           | \n",
       "|  6           | 1983         |  0.4898190   | 0.08983046   | 1.699149e-04 | -0.07177968  |  0.04621762  | 12.56195     |  0.1655312   |  0.11592383  | -0.03311720  | 0.7108847    |  0.05537406  | 0.07695480   |  0.7021134   |  3           | \n",
       "| 10           | 1991         | -0.5080047   | 0.06121579   | 3.269729e-05 |  0.11520413  |  1.34105313  | 11.56583     |  0.2397878   |  0.02314729  |  0.30005118  | 0.4187644    |  0.14682838  | 0.37436786   | -2.1609421   | 10           | \n",
       "| 12           | 2000         | -1.3568472   | 0.06197736   | 1.219181e-05 |  0.16523764  |  0.25174579  | 12.27575     | -0.3823268   | -0.02378274  | -0.17460629  | 0.8244712    | -0.59177256  | 1.06719565   | -3.8155227   |  6           | \n",
       "\n",
       "\n"
      ],
      "text/plain": [
       "  FirmID year lnAnnRet   lnRf       MEwt         lnIssue     lnMom      \n",
       "1  6     1980  0.3636313 0.07894428 2.814308e-04  0.03134417  0.07535515\n",
       "2  6     1981 -0.2904088 0.13019902 3.214631e-04  0.04421350  0.51265192\n",
       "3  6     1982  0.1866300 0.13070259 2.663127e-04 -0.06819496 -0.22050542\n",
       "4  6     1983  0.4898190 0.08983046 1.699149e-04 -0.07177968  0.04621762\n",
       "5 10     1991 -0.5080047 0.06121579 3.269729e-05  0.11520413  1.34105313\n",
       "6 12     2000 -1.3568472 0.06197736 1.219181e-05  0.16523764  0.25174579\n",
       "  lnME     lnProf     lnEP        lnInv       lnLever   lnROE       rv        \n",
       "1 12.58147  0.2017671  0.14641121  0.09362611 0.6960014  0.09529421 0.08413413\n",
       "2 12.90800  0.2156609  0.10255504  0.08724214 0.7098430  0.08217967 0.05638131\n",
       "3 12.55777  0.1840875  0.11954752  0.11166344 0.7309716  0.07951558 0.06207170\n",
       "4 12.56195  0.1655312  0.11592383 -0.03311720 0.7108847  0.05537406 0.07695480\n",
       "5 11.56583  0.2397878  0.02314729  0.30005118 0.4187644  0.14682838 0.37436786\n",
       "6 12.27575 -0.3823268 -0.02378274 -0.17460629 0.8244712 -0.59177256 1.06719565\n",
       "  lnBM       ff_ind\n",
       "1  0.6333913  3    \n",
       "2  0.3567226  3    \n",
       "3  0.7794052  3    \n",
       "4  0.7021134  3    \n",
       "5 -2.1609421 10    \n",
       "6 -3.8155227  6    "
      ]
     },
     "metadata": {},
     "output_type": "display_data"
    }
   ],
   "source": [
    "head(StockRetAcct_DT)"
   ]
  },
  {
   "cell_type": "markdown",
   "metadata": {},
   "source": [
    "### Cleaning the Data\n",
    "\n",
    " * Firm Level Characteristics to be used: lnIssue, lnProf, lnInv, and lnME\n",
    " * Square of these variable named as lnProf2 = lnProf^2 \n",
    " * Intersection terms with Market Equity e.g. lnProf_ME = lnProf * lnME "
   ]
  },
  {
   "cell_type": "code",
   "execution_count": 174,
   "metadata": {},
   "outputs": [
    {
     "data": {},
     "metadata": {},
     "output_type": "display_data"
    }
   ],
   "source": [
    "StockRetAcct_DT[, `:=`(ExRet, exp(lnAnnRet) - exp(lnRf))]\n",
    "StockRetAcct_DT = StockRetAcct_DT[, .(FirmID, year, ExRet, ff_ind, MEwt, lnIssue,\n",
    "lnProf, lnInv, lnME)]"
   ]
  },
  {
   "cell_type": "code",
   "execution_count": 175,
   "metadata": {},
   "outputs": [
    {
     "data": {
      "text/html": [
       "<table>\n",
       "<thead><tr><th scope=col>FirmID</th><th scope=col>year</th><th scope=col>ExRet</th><th scope=col>ff_ind</th><th scope=col>MEwt</th><th scope=col>lnIssue</th><th scope=col>lnProf</th><th scope=col>lnInv</th><th scope=col>lnME</th></tr></thead>\n",
       "<tbody>\n",
       "\t<tr><td> 6          </td><td>1980        </td><td> 0.3563997  </td><td> 3          </td><td>2.814308e-04</td><td> 0.03134417 </td><td> 0.2017671  </td><td> 0.09362611 </td><td>12.58147    </td></tr>\n",
       "\t<tr><td> 6          </td><td>1981        </td><td>-0.3910973  </td><td> 3          </td><td>3.214631e-04</td><td> 0.04421350 </td><td> 0.2156609  </td><td> 0.08724214 </td><td>12.90800    </td></tr>\n",
       "\t<tr><td> 6          </td><td>1982        </td><td> 0.0655525  </td><td> 3          </td><td>2.663127e-04</td><td>-0.06819496 </td><td> 0.1840875  </td><td> 0.11166344 </td><td>12.55777    </td></tr>\n",
       "\t<tr><td> 6          </td><td>1983        </td><td> 0.5380321  </td><td> 3          </td><td>1.699149e-04</td><td>-0.07177968 </td><td> 0.1655312  </td><td>-0.03311720 </td><td>12.56195    </td></tr>\n",
       "\t<tr><td>10          </td><td>1991        </td><td>-0.4614334  </td><td>10          </td><td>3.269729e-05</td><td> 0.11520413 </td><td> 0.2397878  </td><td> 0.30005118 </td><td>11.56583    </td></tr>\n",
       "\t<tr><td>12          </td><td>2000        </td><td>-0.8064670  </td><td> 6          </td><td>1.219181e-05</td><td> 0.16523764 </td><td>-0.3823268  </td><td>-0.17460629 </td><td>12.27575    </td></tr>\n",
       "</tbody>\n",
       "</table>\n"
      ],
      "text/latex": [
       "\\begin{tabular}{r|lllllllll}\n",
       " FirmID & year & ExRet & ff\\_ind & MEwt & lnIssue & lnProf & lnInv & lnME\\\\\n",
       "\\hline\n",
       "\t  6           & 1980         &  0.3563997   &  3           & 2.814308e-04 &  0.03134417  &  0.2017671   &  0.09362611  & 12.58147    \\\\\n",
       "\t  6           & 1981         & -0.3910973   &  3           & 3.214631e-04 &  0.04421350  &  0.2156609   &  0.08724214  & 12.90800    \\\\\n",
       "\t  6           & 1982         &  0.0655525   &  3           & 2.663127e-04 & -0.06819496  &  0.1840875   &  0.11166344  & 12.55777    \\\\\n",
       "\t  6           & 1983         &  0.5380321   &  3           & 1.699149e-04 & -0.07177968  &  0.1655312   & -0.03311720  & 12.56195    \\\\\n",
       "\t 10           & 1991         & -0.4614334   & 10           & 3.269729e-05 &  0.11520413  &  0.2397878   &  0.30005118  & 11.56583    \\\\\n",
       "\t 12           & 2000         & -0.8064670   &  6           & 1.219181e-05 &  0.16523764  & -0.3823268   & -0.17460629  & 12.27575    \\\\\n",
       "\\end{tabular}\n"
      ],
      "text/markdown": [
       "\n",
       "FirmID | year | ExRet | ff_ind | MEwt | lnIssue | lnProf | lnInv | lnME | \n",
       "|---|---|---|---|---|---|\n",
       "|  6           | 1980         |  0.3563997   |  3           | 2.814308e-04 |  0.03134417  |  0.2017671   |  0.09362611  | 12.58147     | \n",
       "|  6           | 1981         | -0.3910973   |  3           | 3.214631e-04 |  0.04421350  |  0.2156609   |  0.08724214  | 12.90800     | \n",
       "|  6           | 1982         |  0.0655525   |  3           | 2.663127e-04 | -0.06819496  |  0.1840875   |  0.11166344  | 12.55777     | \n",
       "|  6           | 1983         |  0.5380321   |  3           | 1.699149e-04 | -0.07177968  |  0.1655312   | -0.03311720  | 12.56195     | \n",
       "| 10           | 1991         | -0.4614334   | 10           | 3.269729e-05 |  0.11520413  |  0.2397878   |  0.30005118  | 11.56583     | \n",
       "| 12           | 2000         | -0.8064670   |  6           | 1.219181e-05 |  0.16523764  | -0.3823268   | -0.17460629  | 12.27575     | \n",
       "\n",
       "\n"
      ],
      "text/plain": [
       "  FirmID year ExRet      ff_ind MEwt         lnIssue     lnProf     lnInv      \n",
       "1  6     1980  0.3563997  3     2.814308e-04  0.03134417  0.2017671  0.09362611\n",
       "2  6     1981 -0.3910973  3     3.214631e-04  0.04421350  0.2156609  0.08724214\n",
       "3  6     1982  0.0655525  3     2.663127e-04 -0.06819496  0.1840875  0.11166344\n",
       "4  6     1983  0.5380321  3     1.699149e-04 -0.07177968  0.1655312 -0.03311720\n",
       "5 10     1991 -0.4614334 10     3.269729e-05  0.11520413  0.2397878  0.30005118\n",
       "6 12     2000 -0.8064670  6     1.219181e-05  0.16523764 -0.3823268 -0.17460629\n",
       "  lnME    \n",
       "1 12.58147\n",
       "2 12.90800\n",
       "3 12.55777\n",
       "4 12.56195\n",
       "5 11.56583\n",
       "6 12.27575"
      ]
     },
     "metadata": {},
     "output_type": "display_data"
    }
   ],
   "source": [
    "## Toking relevant columns only\n",
    "head(StockRetAcct_DT)"
   ]
  },
  {
   "cell_type": "code",
   "execution_count": 176,
   "metadata": {},
   "outputs": [],
   "source": [
    "# Creating squared variables\n",
    "list_of_squared = colnames(StockRetAcct_DT)[-(1:5)]\n",
    "for (i in list_of_squared) {\n",
    "    StockRetAcct_DT[, `:=`(paste0(i, \"2\"), get(i)^2)]\n",
    "}"
   ]
  },
  {
   "cell_type": "code",
   "execution_count": 177,
   "metadata": {},
   "outputs": [],
   "source": [
    "# Creating interaction with ME variable\n",
    "for (i in list_of_squared[-4]) {\n",
    "    StockRetAcct_DT[, `:=`(paste0(i, \"_ME\"), get(i) * lnME)]\n",
    "}"
   ]
  },
  {
   "cell_type": "code",
   "execution_count": 178,
   "metadata": {},
   "outputs": [
    {
     "data": {},
     "metadata": {},
     "output_type": "display_data"
    }
   ],
   "source": [
    "# Creating a constant\n",
    "StockRetAcct_DT[, `:=`(Constant, 1)]"
   ]
  },
  {
   "cell_type": "code",
   "execution_count": 179,
   "metadata": {},
   "outputs": [
    {
     "data": {
      "text/html": [
       "<table>\n",
       "<thead><tr><th scope=col>FirmID</th><th scope=col>year</th><th scope=col>ExRet</th><th scope=col>ff_ind</th><th scope=col>MEwt</th><th scope=col>lnIssue</th><th scope=col>lnProf</th><th scope=col>lnInv</th><th scope=col>lnME</th><th scope=col>lnIssue2</th><th scope=col>lnProf2</th><th scope=col>lnInv2</th><th scope=col>lnME2</th><th scope=col>lnIssue_ME</th><th scope=col>lnProf_ME</th><th scope=col>lnInv_ME</th><th scope=col>Constant</th></tr></thead>\n",
       "<tbody>\n",
       "\t<tr><td> 6          </td><td>1980        </td><td> 0.3563997  </td><td> 3          </td><td>2.814308e-04</td><td> 0.03134417 </td><td> 0.2017671  </td><td> 0.09362611 </td><td>12.58147    </td><td>0.0009824569</td><td>0.04070995  </td><td>0.008765849 </td><td>158.2934    </td><td> 0.3943558  </td><td> 2.538527   </td><td> 1.1779543  </td><td>1           </td></tr>\n",
       "\t<tr><td> 6          </td><td>1981        </td><td>-0.3910973  </td><td> 3          </td><td>3.214631e-04</td><td> 0.04421350 </td><td> 0.2156609  </td><td> 0.08724214 </td><td>12.90800    </td><td>0.0019548332</td><td>0.04650962  </td><td>0.007611191 </td><td>166.6164    </td><td> 0.5707076  </td><td> 2.783750   </td><td> 1.1261212  </td><td>1           </td></tr>\n",
       "\t<tr><td> 6          </td><td>1982        </td><td> 0.0655525  </td><td> 3          </td><td>2.663127e-04</td><td>-0.06819496 </td><td> 0.1840875  </td><td> 0.11166344 </td><td>12.55777    </td><td>0.0046505530</td><td>0.03388820  </td><td>0.012468723 </td><td>157.6977    </td><td>-0.8563770  </td><td> 2.311729   </td><td> 1.4022443  </td><td>1           </td></tr>\n",
       "\t<tr><td> 6          </td><td>1983        </td><td> 0.5380321  </td><td> 3          </td><td>1.699149e-04</td><td>-0.07177968 </td><td> 0.1655312  </td><td>-0.03311720 </td><td>12.56195    </td><td>0.0051523219</td><td>0.02740059  </td><td>0.001096749 </td><td>157.8027    </td><td>-0.9016930  </td><td> 2.079396   </td><td>-0.4160168  </td><td>1           </td></tr>\n",
       "\t<tr><td>10          </td><td>1991        </td><td>-0.4614334  </td><td>10          </td><td>3.269729e-05</td><td> 0.11520413 </td><td> 0.2397878  </td><td> 0.30005118 </td><td>11.56583    </td><td>0.0132719906</td><td>0.05749820  </td><td>0.090030712 </td><td>133.7685    </td><td> 1.3324315  </td><td> 2.773345   </td><td> 3.4703413  </td><td>1           </td></tr>\n",
       "\t<tr><td>12          </td><td>2000        </td><td>-0.8064670  </td><td> 6          </td><td>1.219181e-05</td><td> 0.16523764 </td><td>-0.3823268  </td><td>-0.17460629 </td><td>12.27575    </td><td>0.0273034761</td><td>0.14617375  </td><td>0.030487358 </td><td>150.6941    </td><td> 2.0284166  </td><td>-4.693349   </td><td>-2.1434239  </td><td>1           </td></tr>\n",
       "</tbody>\n",
       "</table>\n"
      ],
      "text/latex": [
       "\\begin{tabular}{r|lllllllllllllllll}\n",
       " FirmID & year & ExRet & ff\\_ind & MEwt & lnIssue & lnProf & lnInv & lnME & lnIssue2 & lnProf2 & lnInv2 & lnME2 & lnIssue\\_ME & lnProf\\_ME & lnInv\\_ME & Constant\\\\\n",
       "\\hline\n",
       "\t  6           & 1980         &  0.3563997   &  3           & 2.814308e-04 &  0.03134417  &  0.2017671   &  0.09362611  & 12.58147     & 0.0009824569 & 0.04070995   & 0.008765849  & 158.2934     &  0.3943558   &  2.538527    &  1.1779543   & 1           \\\\\n",
       "\t  6           & 1981         & -0.3910973   &  3           & 3.214631e-04 &  0.04421350  &  0.2156609   &  0.08724214  & 12.90800     & 0.0019548332 & 0.04650962   & 0.007611191  & 166.6164     &  0.5707076   &  2.783750    &  1.1261212   & 1           \\\\\n",
       "\t  6           & 1982         &  0.0655525   &  3           & 2.663127e-04 & -0.06819496  &  0.1840875   &  0.11166344  & 12.55777     & 0.0046505530 & 0.03388820   & 0.012468723  & 157.6977     & -0.8563770   &  2.311729    &  1.4022443   & 1           \\\\\n",
       "\t  6           & 1983         &  0.5380321   &  3           & 1.699149e-04 & -0.07177968  &  0.1655312   & -0.03311720  & 12.56195     & 0.0051523219 & 0.02740059   & 0.001096749  & 157.8027     & -0.9016930   &  2.079396    & -0.4160168   & 1           \\\\\n",
       "\t 10           & 1991         & -0.4614334   & 10           & 3.269729e-05 &  0.11520413  &  0.2397878   &  0.30005118  & 11.56583     & 0.0132719906 & 0.05749820   & 0.090030712  & 133.7685     &  1.3324315   &  2.773345    &  3.4703413   & 1           \\\\\n",
       "\t 12           & 2000         & -0.8064670   &  6           & 1.219181e-05 &  0.16523764  & -0.3823268   & -0.17460629  & 12.27575     & 0.0273034761 & 0.14617375   & 0.030487358  & 150.6941     &  2.0284166   & -4.693349    & -2.1434239   & 1           \\\\\n",
       "\\end{tabular}\n"
      ],
      "text/markdown": [
       "\n",
       "FirmID | year | ExRet | ff_ind | MEwt | lnIssue | lnProf | lnInv | lnME | lnIssue2 | lnProf2 | lnInv2 | lnME2 | lnIssue_ME | lnProf_ME | lnInv_ME | Constant | \n",
       "|---|---|---|---|---|---|\n",
       "|  6           | 1980         |  0.3563997   |  3           | 2.814308e-04 |  0.03134417  |  0.2017671   |  0.09362611  | 12.58147     | 0.0009824569 | 0.04070995   | 0.008765849  | 158.2934     |  0.3943558   |  2.538527    |  1.1779543   | 1            | \n",
       "|  6           | 1981         | -0.3910973   |  3           | 3.214631e-04 |  0.04421350  |  0.2156609   |  0.08724214  | 12.90800     | 0.0019548332 | 0.04650962   | 0.007611191  | 166.6164     |  0.5707076   |  2.783750    |  1.1261212   | 1            | \n",
       "|  6           | 1982         |  0.0655525   |  3           | 2.663127e-04 | -0.06819496  |  0.1840875   |  0.11166344  | 12.55777     | 0.0046505530 | 0.03388820   | 0.012468723  | 157.6977     | -0.8563770   |  2.311729    |  1.4022443   | 1            | \n",
       "|  6           | 1983         |  0.5380321   |  3           | 1.699149e-04 | -0.07177968  |  0.1655312   | -0.03311720  | 12.56195     | 0.0051523219 | 0.02740059   | 0.001096749  | 157.8027     | -0.9016930   |  2.079396    | -0.4160168   | 1            | \n",
       "| 10           | 1991         | -0.4614334   | 10           | 3.269729e-05 |  0.11520413  |  0.2397878   |  0.30005118  | 11.56583     | 0.0132719906 | 0.05749820   | 0.090030712  | 133.7685     |  1.3324315   |  2.773345    |  3.4703413   | 1            | \n",
       "| 12           | 2000         | -0.8064670   |  6           | 1.219181e-05 |  0.16523764  | -0.3823268   | -0.17460629  | 12.27575     | 0.0273034761 | 0.14617375   | 0.030487358  | 150.6941     |  2.0284166   | -4.693349    | -2.1434239   | 1            | \n",
       "\n",
       "\n"
      ],
      "text/plain": [
       "  FirmID year ExRet      ff_ind MEwt         lnIssue     lnProf     lnInv      \n",
       "1  6     1980  0.3563997  3     2.814308e-04  0.03134417  0.2017671  0.09362611\n",
       "2  6     1981 -0.3910973  3     3.214631e-04  0.04421350  0.2156609  0.08724214\n",
       "3  6     1982  0.0655525  3     2.663127e-04 -0.06819496  0.1840875  0.11166344\n",
       "4  6     1983  0.5380321  3     1.699149e-04 -0.07177968  0.1655312 -0.03311720\n",
       "5 10     1991 -0.4614334 10     3.269729e-05  0.11520413  0.2397878  0.30005118\n",
       "6 12     2000 -0.8064670  6     1.219181e-05  0.16523764 -0.3823268 -0.17460629\n",
       "  lnME     lnIssue2     lnProf2    lnInv2      lnME2    lnIssue_ME lnProf_ME\n",
       "1 12.58147 0.0009824569 0.04070995 0.008765849 158.2934  0.3943558  2.538527\n",
       "2 12.90800 0.0019548332 0.04650962 0.007611191 166.6164  0.5707076  2.783750\n",
       "3 12.55777 0.0046505530 0.03388820 0.012468723 157.6977 -0.8563770  2.311729\n",
       "4 12.56195 0.0051523219 0.02740059 0.001096749 157.8027 -0.9016930  2.079396\n",
       "5 11.56583 0.0132719906 0.05749820 0.090030712 133.7685  1.3324315  2.773345\n",
       "6 12.27575 0.0273034761 0.14617375 0.030487358 150.6941  2.0284166 -4.693349\n",
       "  lnInv_ME   Constant\n",
       "1  1.1779543 1       \n",
       "2  1.1261212 1       \n",
       "3  1.4022443 1       \n",
       "4 -0.4160168 1       \n",
       "5  3.4703413 1       \n",
       "6 -2.1434239 1       "
      ]
     },
     "metadata": {},
     "output_type": "display_data"
    }
   ],
   "source": [
    "head(StockRetAcct_DT)"
   ]
  },
  {
   "cell_type": "markdown",
   "metadata": {},
   "source": [
    "### Cross-sectionally demeaning each of the 11 characteristics\n",
    "lnIssue,\tlnProf,\tlnInv,\tlnME,\tlnIssue2,\tlnProf2,\tlnInv2,\tlnME2,\tlnIssue_ME,\tlnProf_ME,\tlnInv_ME"
   ]
  },
  {
   "cell_type": "code",
   "execution_count": 180,
   "metadata": {},
   "outputs": [],
   "source": [
    "# Identifying and removing NA observations\n",
    "standardized_StockRetAcct_DT = copy(StockRetAcct_DT)\n",
    "for (i in colnames(standardized_StockRetAcct_DT)[-1]) {\n",
    "    standardized_StockRetAcct_DT = standardized_StockRetAcct_DT[!is.na(get(i))]\n",
    "}"
   ]
  },
  {
   "cell_type": "code",
   "execution_count": 181,
   "metadata": {},
   "outputs": [],
   "source": [
    "# Creating demeaned dataset\n",
    "for (i in colnames(standardized_StockRetAcct_DT)[-c(1:5, 17)]) {\n",
    "    standardized_StockRetAcct_DT[, `:=`(paste0(i), (get(i) - mean(get(i)))),\n",
    "    by = year]\n",
    "}"
   ]
  },
  {
   "cell_type": "code",
   "execution_count": 182,
   "metadata": {},
   "outputs": [
    {
     "data": {},
     "metadata": {},
     "output_type": "display_data"
    }
   ],
   "source": [
    "# Marking sample to be used for estimation\n",
    "standardized_StockRetAcct_DT[, `:=`(Training_data, year <= 2004)]"
   ]
  },
  {
   "cell_type": "markdown",
   "metadata": {},
   "source": [
    "## Creating Factor Portfolio"
   ]
  },
  {
   "cell_type": "code",
   "execution_count": 183,
   "metadata": {},
   "outputs": [],
   "source": [
    "# Factor portfolios\n",
    "N_factors = ncol(standardized_StockRetAcct_DT) - 6\n",
    "Factor_matrix = matrix(NA, nrow = length(unique(standardized_StockRetAcct_DT$year)),\n",
    "ncol = N_factors)\n",
    "\n",
    "for (i in sort(unique(standardized_StockRetAcct_DT$year))) {\n",
    "    Factor_matrix[(i - 1979), 1:N_factors] = t(data.matrix(standardized_StockRetAcct_DT[year ==\n",
    "    i, -c(\"FirmID\", \"year\", \"ExRet\", \"ff_ind\", \"MEwt\", \"Training_data\")])) %*%\n",
    "    data.matrix(standardized_StockRetAcct_DT[year == i, .(ExRet)])\n",
    "}\n",
    "\n",
    "colnames(Factor_matrix) = colnames(standardized_StockRetAcct_DT[, -c(\"FirmID\", \"year\", \"ExRet\", \"ff_ind\", \"MEwt\", \"Training_data\")])\n",
    "rownames(Factor_matrix) = sort(unique(standardized_StockRetAcct_DT$year))"
   ]
  },
  {
   "cell_type": "markdown",
   "metadata": {},
   "source": [
    "## Factor sample means and sample variance-covariance matrix"
   ]
  },
  {
   "cell_type": "code",
   "execution_count": 184,
   "metadata": {},
   "outputs": [
    {
     "data": {
      "text/html": [
       "<dl class=dl-horizontal>\n",
       "\t<dt>lnIssue</dt>\n",
       "\t\t<dd>-11.2147231747803</dd>\n",
       "\t<dt>lnProf</dt>\n",
       "\t\t<dd>13.299770376266</dd>\n",
       "\t<dt>lnInv</dt>\n",
       "\t\t<dd>-16.9919482001647</dd>\n",
       "\t<dt>lnME</dt>\n",
       "\t\t<dd>-10.565217658565</dd>\n",
       "\t<dt>lnIssue2</dt>\n",
       "\t\t<dd>-9.20269425388263</dd>\n",
       "\t<dt>lnProf2</dt>\n",
       "\t\t<dd>-9.97177894839074</dd>\n",
       "\t<dt>lnInv2</dt>\n",
       "\t\t<dd>-22.8277671218477</dd>\n",
       "\t<dt>lnME2</dt>\n",
       "\t\t<dd>-290.790558435265</dd>\n",
       "\t<dt>lnIssue_ME</dt>\n",
       "\t\t<dd>-152.064519125815</dd>\n",
       "\t<dt>lnProf_ME</dt>\n",
       "\t\t<dd>172.201582840392</dd>\n",
       "\t<dt>lnInv_ME</dt>\n",
       "\t\t<dd>-234.06555803243</dd>\n",
       "\t<dt>Constant</dt>\n",
       "\t\t<dd>166.326096940056</dd>\n",
       "</dl>\n"
      ],
      "text/latex": [
       "\\begin{description*}\n",
       "\\item[lnIssue] -11.2147231747803\n",
       "\\item[lnProf] 13.299770376266\n",
       "\\item[lnInv] -16.9919482001647\n",
       "\\item[lnME] -10.565217658565\n",
       "\\item[lnIssue2] -9.20269425388263\n",
       "\\item[lnProf2] -9.97177894839074\n",
       "\\item[lnInv2] -22.8277671218477\n",
       "\\item[lnME2] -290.790558435265\n",
       "\\item[lnIssue\\textbackslash{}\\_ME] -152.064519125815\n",
       "\\item[lnProf\\textbackslash{}\\_ME] 172.201582840392\n",
       "\\item[lnInv\\textbackslash{}\\_ME] -234.06555803243\n",
       "\\item[Constant] 166.326096940056\n",
       "\\end{description*}\n"
      ],
      "text/markdown": [
       "lnIssue\n",
       ":   -11.2147231747803lnProf\n",
       ":   13.299770376266lnInv\n",
       ":   -16.9919482001647lnME\n",
       ":   -10.565217658565lnIssue2\n",
       ":   -9.20269425388263lnProf2\n",
       ":   -9.97177894839074lnInv2\n",
       ":   -22.8277671218477lnME2\n",
       ":   -290.790558435265lnIssue_ME\n",
       ":   -152.064519125815lnProf_ME\n",
       ":   172.201582840392lnInv_ME\n",
       ":   -234.06555803243Constant\n",
       ":   166.326096940056\n",
       "\n"
      ],
      "text/plain": [
       "    lnIssue      lnProf       lnInv        lnME    lnIssue2     lnProf2 \n",
       " -11.214723   13.299770  -16.991948  -10.565218   -9.202694   -9.971779 \n",
       "     lnInv2       lnME2  lnIssue_ME   lnProf_ME    lnInv_ME    Constant \n",
       " -22.827767 -290.790558 -152.064519  172.201583 -234.065558  166.326097 "
      ]
     },
     "metadata": {},
     "output_type": "display_data"
    }
   ],
   "source": [
    "Factor_avg_ret = colMeans(Factor_matrix[1:25, 1:N_factors])\n",
    "Factor_avg_ret"
   ]
  },
  {
   "cell_type": "code",
   "execution_count": 185,
   "metadata": {},
   "outputs": [
    {
     "data": {
      "text/html": [
       "<table>\n",
       "<thead><tr><th></th><th scope=col>lnIssue</th><th scope=col>lnProf</th><th scope=col>lnInv</th><th scope=col>lnME</th><th scope=col>lnIssue2</th><th scope=col>lnProf2</th><th scope=col>lnInv2</th><th scope=col>lnME2</th><th scope=col>lnIssue_ME</th><th scope=col>lnProf_ME</th><th scope=col>lnInv_ME</th><th scope=col>Constant</th></tr></thead>\n",
       "<tbody>\n",
       "\t<tr><th scope=row>lnIssue</th><td>   640.7192 </td><td>  -994.5461 </td><td>   624.9896 </td><td>   496.1655 </td><td>  352.6523  </td><td>  1383.7085 </td><td>   953.7910 </td><td>  15354.38  </td><td>   8972.693 </td><td> -13410.777 </td><td>   9344.948 </td><td>   1840.1187</td></tr>\n",
       "\t<tr><th scope=row>lnProf</th><td>  -994.5461 </td><td>  2071.3625 </td><td>  -868.2150 </td><td> -1949.0740 </td><td> -474.5086  </td><td> -2983.0591 </td><td> -1443.2588 </td><td> -58530.06  </td><td> -14087.288 </td><td>  27638.292 </td><td> -13498.771 </td><td>   -369.8943</td></tr>\n",
       "\t<tr><th scope=row>lnInv</th><td>   624.9896 </td><td>  -868.2150 </td><td>   880.9365 </td><td>   742.7593 </td><td>  360.2347  </td><td>  1141.9666 </td><td>  1297.8309 </td><td>  22918.90  </td><td>   8842.019 </td><td> -11712.530 </td><td>  12897.044 </td><td>   2591.4172</td></tr>\n",
       "\t<tr><th scope=row>lnME</th><td>   496.1655 </td><td> -1949.0740 </td><td>   742.7593 </td><td> 10435.7774 </td><td>  203.9477  </td><td>  3028.4673 </td><td>  1424.3177 </td><td> 297633.47  </td><td>   8364.679 </td><td> -24172.125 </td><td>  13392.404 </td><td>  -9846.1339</td></tr>\n",
       "\t<tr><th scope=row>lnIssue2</th><td>   352.6523 </td><td>  -474.5086 </td><td>   360.2347 </td><td>   203.9477 </td><td>  269.9992  </td><td>   683.3212 </td><td>   565.2194 </td><td>   6705.93  </td><td>   4920.633 </td><td>  -6387.321 </td><td>   5344.237 </td><td>   1285.0342</td></tr>\n",
       "\t<tr><th scope=row>lnProf2</th><td>  1383.7085 </td><td> -2983.0591 </td><td>  1141.9666 </td><td>  3028.4673 </td><td>  683.3212  </td><td>  4495.3851 </td><td>  1903.9075 </td><td>  91094.52  </td><td>  19584.810 </td><td> -39726.708 </td><td>  17889.251 </td><td>    165.9178</td></tr>\n",
       "\t<tr><th scope=row>lnInv2</th><td>   953.7910 </td><td> -1443.2588 </td><td>  1297.8309 </td><td>  1424.3177 </td><td>  565.2194  </td><td>  1903.9075 </td><td>  1987.7943 </td><td>  43495.22  </td><td>  13565.461 </td><td> -19397.242 </td><td>  19207.827 </td><td>   3246.0576</td></tr>\n",
       "\t<tr><th scope=row>lnME2</th><td> 15354.3826 </td><td>-58530.0579 </td><td> 22918.9028 </td><td>297633.4683 </td><td> 6705.9302  </td><td> 91094.5206 </td><td> 43495.2240 </td><td>8522765.40  </td><td> 255411.705 </td><td>-729700.060 </td><td> 407897.759 </td><td>-255818.1326</td></tr>\n",
       "\t<tr><th scope=row>lnIssue_ME</th><td>  8972.6926 </td><td>-14087.2883 </td><td>  8842.0190 </td><td>  8364.6787 </td><td> 4920.6331  </td><td> 19584.8101 </td><td> 13565.4613 </td><td> 255411.71  </td><td> 125976.333 </td><td>-189731.988 </td><td> 132615.849 </td><td>  24152.4486</td></tr>\n",
       "\t<tr><th scope=row>lnProf_ME</th><td>-13410.7773 </td><td> 27638.2922 </td><td>-11712.5300 </td><td>-24172.1252 </td><td>-6387.3214  </td><td>-39726.7085 </td><td>-19397.2416 </td><td>-729700.06  </td><td>-189731.988 </td><td> 369318.567 </td><td>-181628.915 </td><td>  -8014.2557</td></tr>\n",
       "\t<tr><th scope=row>lnInv_ME</th><td>  9344.9478 </td><td>-13498.7708 </td><td> 12897.0435 </td><td> 13392.4044 </td><td> 5344.2368  </td><td> 17889.2510 </td><td> 19207.8273 </td><td> 407897.76  </td><td> 132615.849 </td><td>-181628.915 </td><td> 189957.250 </td><td>  35318.2211</td></tr>\n",
       "\t<tr><th scope=row>Constant</th><td>  1840.1187 </td><td>  -369.8943 </td><td>  2591.4172 </td><td> -9846.1339 </td><td> 1285.0342  </td><td>   165.9178 </td><td>  3246.0576 </td><td>-255818.13  </td><td>  24152.449 </td><td>  -8014.256 </td><td>  35318.221 </td><td>  88995.8396</td></tr>\n",
       "</tbody>\n",
       "</table>\n"
      ],
      "text/latex": [
       "\\begin{tabular}{r|llllllllllll}\n",
       "  & lnIssue & lnProf & lnInv & lnME & lnIssue2 & lnProf2 & lnInv2 & lnME2 & lnIssue\\_ME & lnProf\\_ME & lnInv\\_ME & Constant\\\\\n",
       "\\hline\n",
       "\tlnIssue &    640.7192  &   -994.5461  &    624.9896  &    496.1655  &   352.6523   &   1383.7085  &    953.7910  &   15354.38   &    8972.693  &  -13410.777  &    9344.948  &    1840.1187\\\\\n",
       "\tlnProf &   -994.5461  &   2071.3625  &   -868.2150  &  -1949.0740  &  -474.5086   &  -2983.0591  &  -1443.2588  &  -58530.06   &  -14087.288  &   27638.292  &  -13498.771  &    -369.8943\\\\\n",
       "\tlnInv &    624.9896  &   -868.2150  &    880.9365  &    742.7593  &   360.2347   &   1141.9666  &   1297.8309  &   22918.90   &    8842.019  &  -11712.530  &   12897.044  &    2591.4172\\\\\n",
       "\tlnME &    496.1655  &  -1949.0740  &    742.7593  &  10435.7774  &   203.9477   &   3028.4673  &   1424.3177  &  297633.47   &    8364.679  &  -24172.125  &   13392.404  &   -9846.1339\\\\\n",
       "\tlnIssue2 &    352.6523  &   -474.5086  &    360.2347  &    203.9477  &   269.9992   &    683.3212  &    565.2194  &    6705.93   &    4920.633  &   -6387.321  &    5344.237  &    1285.0342\\\\\n",
       "\tlnProf2 &   1383.7085  &  -2983.0591  &   1141.9666  &   3028.4673  &   683.3212   &   4495.3851  &   1903.9075  &   91094.52   &   19584.810  &  -39726.708  &   17889.251  &     165.9178\\\\\n",
       "\tlnInv2 &    953.7910  &  -1443.2588  &   1297.8309  &   1424.3177  &   565.2194   &   1903.9075  &   1987.7943  &   43495.22   &   13565.461  &  -19397.242  &   19207.827  &    3246.0576\\\\\n",
       "\tlnME2 &  15354.3826  & -58530.0579  &  22918.9028  & 297633.4683  &  6705.9302   &  91094.5206  &  43495.2240  & 8522765.40   &  255411.705  & -729700.060  &  407897.759  & -255818.1326\\\\\n",
       "\tlnIssue\\_ME &   8972.6926  & -14087.2883  &   8842.0190  &   8364.6787  &  4920.6331   &  19584.8101  &  13565.4613  &  255411.71   &  125976.333  & -189731.988  &  132615.849  &   24152.4486\\\\\n",
       "\tlnProf\\_ME & -13410.7773  &  27638.2922  & -11712.5300  & -24172.1252  & -6387.3214   & -39726.7085  & -19397.2416  & -729700.06   & -189731.988  &  369318.567  & -181628.915  &   -8014.2557\\\\\n",
       "\tlnInv\\_ME &   9344.9478  & -13498.7708  &  12897.0435  &  13392.4044  &  5344.2368   &  17889.2510  &  19207.8273  &  407897.76   &  132615.849  & -181628.915  &  189957.250  &   35318.2211\\\\\n",
       "\tConstant &   1840.1187  &   -369.8943  &   2591.4172  &  -9846.1339  &  1285.0342   &    165.9178  &   3246.0576  & -255818.13   &   24152.449  &   -8014.256  &   35318.221  &   88995.8396\\\\\n",
       "\\end{tabular}\n"
      ],
      "text/markdown": [
       "\n",
       "| <!--/--> | lnIssue | lnProf | lnInv | lnME | lnIssue2 | lnProf2 | lnInv2 | lnME2 | lnIssue_ME | lnProf_ME | lnInv_ME | Constant | \n",
       "|---|---|---|---|---|---|---|---|---|---|---|---|\n",
       "| lnIssue |    640.7192  |   -994.5461  |    624.9896  |    496.1655  |   352.6523   |   1383.7085  |    953.7910  |   15354.38   |    8972.693  |  -13410.777  |    9344.948  |    1840.1187 | \n",
       "| lnProf |   -994.5461  |   2071.3625  |   -868.2150  |  -1949.0740  |  -474.5086   |  -2983.0591  |  -1443.2588  |  -58530.06   |  -14087.288  |   27638.292  |  -13498.771  |    -369.8943 | \n",
       "| lnInv |    624.9896  |   -868.2150  |    880.9365  |    742.7593  |   360.2347   |   1141.9666  |   1297.8309  |   22918.90   |    8842.019  |  -11712.530  |   12897.044  |    2591.4172 | \n",
       "| lnME |    496.1655  |  -1949.0740  |    742.7593  |  10435.7774  |   203.9477   |   3028.4673  |   1424.3177  |  297633.47   |    8364.679  |  -24172.125  |   13392.404  |   -9846.1339 | \n",
       "| lnIssue2 |    352.6523  |   -474.5086  |    360.2347  |    203.9477  |   269.9992   |    683.3212  |    565.2194  |    6705.93   |    4920.633  |   -6387.321  |    5344.237  |    1285.0342 | \n",
       "| lnProf2 |   1383.7085  |  -2983.0591  |   1141.9666  |   3028.4673  |   683.3212   |   4495.3851  |   1903.9075  |   91094.52   |   19584.810  |  -39726.708  |   17889.251  |     165.9178 | \n",
       "| lnInv2 |    953.7910  |  -1443.2588  |   1297.8309  |   1424.3177  |   565.2194   |   1903.9075  |   1987.7943  |   43495.22   |   13565.461  |  -19397.242  |   19207.827  |    3246.0576 | \n",
       "| lnME2 |  15354.3826  | -58530.0579  |  22918.9028  | 297633.4683  |  6705.9302   |  91094.5206  |  43495.2240  | 8522765.40   |  255411.705  | -729700.060  |  407897.759  | -255818.1326 | \n",
       "| lnIssue_ME |   8972.6926  | -14087.2883  |   8842.0190  |   8364.6787  |  4920.6331   |  19584.8101  |  13565.4613  |  255411.71   |  125976.333  | -189731.988  |  132615.849  |   24152.4486 | \n",
       "| lnProf_ME | -13410.7773  |  27638.2922  | -11712.5300  | -24172.1252  | -6387.3214   | -39726.7085  | -19397.2416  | -729700.06   | -189731.988  |  369318.567  | -181628.915  |   -8014.2557 | \n",
       "| lnInv_ME |   9344.9478  | -13498.7708  |  12897.0435  |  13392.4044  |  5344.2368   |  17889.2510  |  19207.8273  |  407897.76   |  132615.849  | -181628.915  |  189957.250  |   35318.2211 | \n",
       "| Constant |   1840.1187  |   -369.8943  |   2591.4172  |  -9846.1339  |  1285.0342   |    165.9178  |   3246.0576  | -255818.13   |   24152.449  |   -8014.256  |   35318.221  |   88995.8396 | \n",
       "\n",
       "\n"
      ],
      "text/plain": [
       "           lnIssue     lnProf      lnInv       lnME        lnIssue2  \n",
       "lnIssue       640.7192   -994.5461    624.9896    496.1655   352.6523\n",
       "lnProf       -994.5461   2071.3625   -868.2150  -1949.0740  -474.5086\n",
       "lnInv         624.9896   -868.2150    880.9365    742.7593   360.2347\n",
       "lnME          496.1655  -1949.0740    742.7593  10435.7774   203.9477\n",
       "lnIssue2      352.6523   -474.5086    360.2347    203.9477   269.9992\n",
       "lnProf2      1383.7085  -2983.0591   1141.9666   3028.4673   683.3212\n",
       "lnInv2        953.7910  -1443.2588   1297.8309   1424.3177   565.2194\n",
       "lnME2       15354.3826 -58530.0579  22918.9028 297633.4683  6705.9302\n",
       "lnIssue_ME   8972.6926 -14087.2883   8842.0190   8364.6787  4920.6331\n",
       "lnProf_ME  -13410.7773  27638.2922 -11712.5300 -24172.1252 -6387.3214\n",
       "lnInv_ME     9344.9478 -13498.7708  12897.0435  13392.4044  5344.2368\n",
       "Constant     1840.1187   -369.8943   2591.4172  -9846.1339  1285.0342\n",
       "           lnProf2     lnInv2      lnME2      lnIssue_ME  lnProf_ME  \n",
       "lnIssue      1383.7085    953.7910   15354.38    8972.693  -13410.777\n",
       "lnProf      -2983.0591  -1443.2588  -58530.06  -14087.288   27638.292\n",
       "lnInv        1141.9666   1297.8309   22918.90    8842.019  -11712.530\n",
       "lnME         3028.4673   1424.3177  297633.47    8364.679  -24172.125\n",
       "lnIssue2      683.3212    565.2194    6705.93    4920.633   -6387.321\n",
       "lnProf2      4495.3851   1903.9075   91094.52   19584.810  -39726.708\n",
       "lnInv2       1903.9075   1987.7943   43495.22   13565.461  -19397.242\n",
       "lnME2       91094.5206  43495.2240 8522765.40  255411.705 -729700.060\n",
       "lnIssue_ME  19584.8101  13565.4613  255411.71  125976.333 -189731.988\n",
       "lnProf_ME  -39726.7085 -19397.2416 -729700.06 -189731.988  369318.567\n",
       "lnInv_ME    17889.2510  19207.8273  407897.76  132615.849 -181628.915\n",
       "Constant      165.9178   3246.0576 -255818.13   24152.449   -8014.256\n",
       "           lnInv_ME    Constant    \n",
       "lnIssue       9344.948    1840.1187\n",
       "lnProf      -13498.771    -369.8943\n",
       "lnInv        12897.044    2591.4172\n",
       "lnME         13392.404   -9846.1339\n",
       "lnIssue2      5344.237    1285.0342\n",
       "lnProf2      17889.251     165.9178\n",
       "lnInv2       19207.827    3246.0576\n",
       "lnME2       407897.759 -255818.1326\n",
       "lnIssue_ME  132615.849   24152.4486\n",
       "lnProf_ME  -181628.915   -8014.2557\n",
       "lnInv_ME    189957.250   35318.2211\n",
       "Constant     35318.221   88995.8396"
      ]
     },
     "metadata": {},
     "output_type": "display_data"
    }
   ],
   "source": [
    "Factor_var_matrix = var(Factor_matrix[1:25, 1:N_factors])\n",
    "Factor_var_matrix"
   ]
  },
  {
   "cell_type": "code",
   "execution_count": 186,
   "metadata": {},
   "outputs": [
    {
     "data": {
      "text/html": [
       "<dl class=dl-horizontal>\n",
       "\t<dt>lnIssue</dt>\n",
       "\t\t<dd>-0.443051992258537</dd>\n",
       "\t<dt>lnProf</dt>\n",
       "\t\t<dd>0.292224137255291</dd>\n",
       "\t<dt>lnInv</dt>\n",
       "\t\t<dd>-0.572493899749115</dd>\n",
       "\t<dt>lnME</dt>\n",
       "\t\t<dd>-0.10342274136245</dd>\n",
       "\t<dt>lnIssue2</dt>\n",
       "\t\t<dd>-0.560058935661627</dd>\n",
       "\t<dt>lnProf2</dt>\n",
       "\t\t<dd>-0.148726786060023</dd>\n",
       "\t<dt>lnInv2</dt>\n",
       "\t\t<dd>-0.512009143208168</dd>\n",
       "\t<dt>lnME2</dt>\n",
       "\t\t<dd>-0.0996070399841677</dd>\n",
       "\t<dt>lnIssue_ME</dt>\n",
       "\t\t<dd>-0.428433489257016</dd>\n",
       "\t<dt>lnProf_ME</dt>\n",
       "\t\t<dd>0.283358710869306</dd>\n",
       "\t<dt>lnInv_ME</dt>\n",
       "\t\t<dd>-0.537043638678992</dd>\n",
       "\t<dt>Constant</dt>\n",
       "\t\t<dd>0.557539375077129</dd>\n",
       "</dl>\n"
      ],
      "text/latex": [
       "\\begin{description*}\n",
       "\\item[lnIssue] -0.443051992258537\n",
       "\\item[lnProf] 0.292224137255291\n",
       "\\item[lnInv] -0.572493899749115\n",
       "\\item[lnME] -0.10342274136245\n",
       "\\item[lnIssue2] -0.560058935661627\n",
       "\\item[lnProf2] -0.148726786060023\n",
       "\\item[lnInv2] -0.512009143208168\n",
       "\\item[lnME2] -0.0996070399841677\n",
       "\\item[lnIssue\\textbackslash{}\\_ME] -0.428433489257016\n",
       "\\item[lnProf\\textbackslash{}\\_ME] 0.283358710869306\n",
       "\\item[lnInv\\textbackslash{}\\_ME] -0.537043638678992\n",
       "\\item[Constant] 0.557539375077129\n",
       "\\end{description*}\n"
      ],
      "text/markdown": [
       "lnIssue\n",
       ":   -0.443051992258537lnProf\n",
       ":   0.292224137255291lnInv\n",
       ":   -0.572493899749115lnME\n",
       ":   -0.10342274136245lnIssue2\n",
       ":   -0.560058935661627lnProf2\n",
       ":   -0.148726786060023lnInv2\n",
       ":   -0.512009143208168lnME2\n",
       ":   -0.0996070399841677lnIssue_ME\n",
       ":   -0.428433489257016lnProf_ME\n",
       ":   0.283358710869306lnInv_ME\n",
       ":   -0.537043638678992Constant\n",
       ":   0.557539375077129\n",
       "\n"
      ],
      "text/plain": [
       "    lnIssue      lnProf       lnInv        lnME    lnIssue2     lnProf2 \n",
       "-0.44305199  0.29222414 -0.57249390 -0.10342274 -0.56005894 -0.14872679 \n",
       "     lnInv2       lnME2  lnIssue_ME   lnProf_ME    lnInv_ME    Constant \n",
       "-0.51200914 -0.09960704 -0.42843349  0.28335871 -0.53704364  0.55753938 "
      ]
     },
     "metadata": {},
     "output_type": "display_data"
    }
   ],
   "source": [
    "Factor_sharpe = colMeans(Factor_matrix[1:25, 1:N_factors])/(diag(var(Factor_matrix[1:25,\n",
    "1:N_factors]))^0.5)\n",
    "\n",
    "Factor_sharpe"
   ]
  },
  {
   "cell_type": "markdown",
   "metadata": {},
   "source": [
    "## Using Elastic Net regularization (which uses  Ridge and Lasso) to find the coefficient of factors"
   ]
  },
  {
   "cell_type": "code",
   "execution_count": 187,
   "metadata": {},
   "outputs": [
    {
     "data": {
      "text/html": [
       "22.3871608087999"
      ],
      "text/latex": [
       "22.3871608087999"
      ],
      "text/markdown": [
       "22.3871608087999"
      ],
      "text/plain": [
       "[1] 22.38716"
      ]
     },
     "metadata": {},
     "output_type": "display_data"
    }
   ],
   "source": [
    "# Running 5 seperate elastic net regressions\n",
    "#sample factor averages and sample factor covariance matrix in a 20-year subperiod\n",
    "\n",
    "in_sample_Factor_matrix = Factor_matrix[1:25, 1:N_factors]\n",
    "\n",
    "for (i in 1:5) {\n",
    "    # Defininng sample\n",
    "    # sample factor averages and sample factor covariance matrix in a 20-year subperiod\n",
    "    Factor_sample_avg_ret = colMeans(in_sample_Factor_matrix[-((5 * (i - 1) + 1):(5 * i)), ])\n",
    "    Factor_sample_var_matrix = var(in_sample_Factor_matrix[-((5 * (i - 1) + 1):(5 * i)), ])\n",
    "    \n",
    "    # Running elastic net\n",
    "    assign(paste0(\"Elastic_net_\", i), glmnet(Factor_sample_var_matrix, Factor_sample_avg_ret, \n",
    "                                             family = \"gaussian\", alpha = 0.5, standardize = TRUE))\n",
    "    \n",
    "    # Defining a range of lambdas\n",
    "    if (i == 1) {\n",
    "        S_min = min(Elastic_net_1$lambda)\n",
    "        S_max = max(Elastic_net_1$lambda)\n",
    "    } else {\n",
    "        S_min = min(S_min, get(paste0(\"Elastic_net_\", i))$lambda)\n",
    "        S_max = max(S_max, get(paste0(\"Elastic_net_\", i))$lambda)\n",
    "    }\n",
    "}\n",
    "\n",
    "\n",
    "# Predicting factor returns and compare; mse is part of the Metrics package\n",
    "range_of_lambda = seq(S_min - 1, S_max + 1, 0.01)\n",
    "MSE_lambda = matrix(NA, nrow = 6, ncol = length(range_of_lambda))\n",
    "for (i in 1:5) {\n",
    "    b_matrix = as.matrix(predict(get(paste0(\"Elastic_net_\", i)), type = \"coef\", s = range_of_lambda))[-1, ]\n",
    "        for (j in 1:length(range_of_lambda)) {\n",
    "            MSE_lambda[i, j] = mse(b_matrix[, j] %*% var(in_sample_Factor_matrix[(5 * \n",
    "                                (i - 1) + 1):(5 * i), ]), colMeans(in_sample_Factor_matrix[(5 * (i - 1) + 1):(5 * i), ]))\n",
    "        }\n",
    "}\n",
    "\n",
    "\n",
    "MSE_lambda[6, ] = colMeans(MSE_lambda[1:5, ])\n",
    "\n",
    "Best_lambda = range_of_lambda[which(MSE_lambda[6, ] == min(MSE_lambda[6, ]), arr.ind = TRUE)]\n",
    "\n",
    "Best_lambda"
   ]
  },
  {
   "cell_type": "code",
   "execution_count": 188,
   "metadata": {},
   "outputs": [
    {
     "data": {
      "text/plain": [
       "12 x 1 sparse Matrix of class \"dgCMatrix\"\n",
       "                      s0\n",
       "lnIssue    -2.751982e-03\n",
       "lnProf      .           \n",
       "lnInv      -2.602896e-03\n",
       "lnME        .           \n",
       "lnIssue2   -8.773452e-03\n",
       "lnProf2     .           \n",
       "lnInv2     -4.786693e-04\n",
       "lnME2       .           \n",
       "lnIssue_ME -1.262971e-04\n",
       "lnProf_ME   .           \n",
       "lnInv_ME   -6.702161e-05\n",
       "Constant    1.964595e-04"
      ]
     },
     "metadata": {},
     "output_type": "display_data"
    }
   ],
   "source": [
    "# Calculating b_vector for Best_lambda\n",
    "b_vector = glmnet(Factor_var_matrix, Factor_avg_ret, family = \"gaussian\", alpha = 0.5,\n",
    "standardize = TRUE, lambda = Best_lambda)$beta\n",
    "b_vector"
   ]
  },
  {
   "cell_type": "markdown",
   "metadata": {},
   "source": [
    "### With the final b-vector in hand, calculating the out-of-sample average return, standard deviation, and Sharpe ratio for the corresponding estimated “ex ante” MVE portfolio with return b’F_t in the period 2005-2014."
   ]
  },
  {
   "cell_type": "code",
   "execution_count": 189,
   "metadata": {},
   "outputs": [
    {
     "data": {
      "text/html": [
       "0.0611785701521606"
      ],
      "text/latex": [
       "0.0611785701521606"
      ],
      "text/markdown": [
       "0.0611785701521606"
      ],
      "text/plain": [
       "[1] 0.06117857"
      ]
     },
     "metadata": {},
     "output_type": "display_data"
    }
   ],
   "source": [
    "b_vector = data.matrix(b_vector)\n",
    "Out_of_sample_ret = Factor_matrix[-(1:25), ] %*% b_vector\n",
    "mean(Out_of_sample_ret) # Mean"
   ]
  },
  {
   "cell_type": "code",
   "execution_count": 190,
   "metadata": {},
   "outputs": [
    {
     "data": {
      "text/html": [
       "0.0943087683645024"
      ],
      "text/latex": [
       "0.0943087683645024"
      ],
      "text/markdown": [
       "0.0943087683645024"
      ],
      "text/plain": [
       "[1] 0.09430877"
      ]
     },
     "metadata": {},
     "output_type": "display_data"
    }
   ],
   "source": [
    "sd(Out_of_sample_ret) #Standard deviation"
   ]
  },
  {
   "cell_type": "code",
   "execution_count": 191,
   "metadata": {},
   "outputs": [
    {
     "data": {
      "text/html": [
       "0.648705006046798"
      ],
      "text/latex": [
       "0.648705006046798"
      ],
      "text/markdown": [
       "0.648705006046798"
      ],
      "text/plain": [
       "[1] 0.648705"
      ]
     },
     "metadata": {},
     "output_type": "display_data"
    }
   ],
   "source": [
    "mean(Out_of_sample_ret)/sd(Out_of_sample_ret) # Sharpe ratio"
   ]
  },
  {
   "cell_type": "markdown",
   "metadata": {},
   "source": [
    "### Plotting cumulative return on this portfolio relative to that on the market (market return using the value-weights in the sample, MEwt) over the 2005-2014 period"
   ]
  },
  {
   "cell_type": "code",
   "execution_count": 192,
   "metadata": {},
   "outputs": [
    {
     "data": {},
     "metadata": {},
     "output_type": "display_data"
    },
    {
     "data": {
      "text/html": [
       "0.0812223476186941"
      ],
      "text/latex": [
       "0.0812223476186941"
      ],
      "text/markdown": [
       "0.0812223476186941"
      ],
      "text/plain": [
       "[1] 0.08122235"
      ]
     },
     "metadata": {},
     "output_type": "display_data"
    }
   ],
   "source": [
    "for (i in colnames(StockRetAcct_DT)[-(1)]) {\n",
    "    StockRetAcct_DT = StockRetAcct_DT[!is.na(get(i))]\n",
    "}\n",
    "\n",
    "# Calculating 'market' return\n",
    "StockRetAcct_DT[, `:=`(MEwt_adj, MEwt/sum(MEwt)), by = year]\n",
    "\n",
    "MktRet = StockRetAcct_DT[year > 2004, .(Mkt_Ret = sum(ExRet * MEwt_adj)), by = year]\n",
    "\n",
    "setorder(MktRet, year)\n",
    "\n",
    "mean(MktRet$Mkt_Ret) # Mean"
   ]
  },
  {
   "cell_type": "code",
   "execution_count": 193,
   "metadata": {},
   "outputs": [
    {
     "data": {
      "text/html": [
       "0.183196859516749"
      ],
      "text/latex": [
       "0.183196859516749"
      ],
      "text/markdown": [
       "0.183196859516749"
      ],
      "text/plain": [
       "[1] 0.1831969"
      ]
     },
     "metadata": {},
     "output_type": "display_data"
    }
   ],
   "source": [
    "sd(MktRet$Mkt_Ret) # Standard deviation"
   ]
  },
  {
   "cell_type": "code",
   "execution_count": 194,
   "metadata": {},
   "outputs": [
    {
     "data": {
      "text/html": [
       "0.443361026127569"
      ],
      "text/latex": [
       "0.443361026127569"
      ],
      "text/markdown": [
       "0.443361026127569"
      ],
      "text/plain": [
       "[1] 0.443361"
      ]
     },
     "metadata": {},
     "output_type": "display_data"
    }
   ],
   "source": [
    "mean(MktRet$Mkt_Ret)/sd(MktRet$Mkt_Ret) # Sharpe ratio"
   ]
  },
  {
   "cell_type": "code",
   "execution_count": 195,
   "metadata": {},
   "outputs": [],
   "source": [
    "# Scaling MVE portfolio to match market\n",
    "Scaled_Out_of_sample_ret = data.table(Out_of_sample_ret * sd(MktRet$Mkt_Ret)/sd(Out_of_sample_ret))\n",
    "setnames(Scaled_Out_of_sample_ret, \"s0\", \"Elastic_Ret\")"
   ]
  },
  {
   "cell_type": "code",
   "execution_count": 196,
   "metadata": {},
   "outputs": [
    {
     "data": {},
     "metadata": {},
     "output_type": "display_data"
    },
    {
     "data": {},
     "metadata": {},
     "output_type": "display_data"
    }
   ],
   "source": [
    "# Calculating cumulative returns\n",
    "Scaled_Out_of_sample_ret[, `:=`(Cum_Ret, cumprod(1 + Elastic_Ret))]\n",
    "MktRet[, `:=`(Cum_Ret, cumprod(1 + Mkt_Ret))]"
   ]
  },
  {
   "cell_type": "code",
   "execution_count": 197,
   "metadata": {},
   "outputs": [
    {
     "data": {},
     "metadata": {},
     "output_type": "display_data"
    },
    {
     "data": {
      "image/png": "[encoded data removed]",
      "text/plain": [
       "plot without title"
      ]
     },
     "metadata": {},
     "output_type": "display_data"
    }
   ],
   "source": [
    "# Plot\n",
    "p = qplot(MktRet$year, MktRet$Cum_Ret, geom = \"line\", xlab = \"Year\", ylab = \"Excess return\", \n",
    "      color = I(\"blue\"), size = I(1.5), main = \"Value-weighted portfolio (blue) vs. MVE portfolio (red)\") \n",
    "\n",
    "p+geom_line(aes(y = Scaled_Out_of_sample_ret$Cum_Ret), color = I(\"red\"), size = I(1.5)) +\n",
    "theme_bw()"
   ]
  },
  {
   "cell_type": "code",
   "execution_count": null,
   "metadata": {},
   "outputs": [],
   "source": []
  }
 ],
 "metadata": {
  "kernelspec": {
   "display_name": "R",
   "language": "R",
   "name": "ir"
  },
  "language_info": {
   "codemirror_mode": "r",
   "file_extension": ".r",
   "mimetype": "text/x-r-source",
   "name": "R",
   "pygments_lexer": "r",
   "version": "3.5.0"
  }
 },
 "nbformat": 4,
 "nbformat_minor": 2
}
