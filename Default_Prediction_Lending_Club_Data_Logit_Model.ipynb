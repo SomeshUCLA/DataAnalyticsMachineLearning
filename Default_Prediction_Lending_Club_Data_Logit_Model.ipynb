{
 "cells": [
  {
   "cell_type": "markdown",
   "metadata": {},
   "source": [
    "## Predicting default using Logistic Regression Method on Lending Club loan book data"
   ]
  },
  {
   "cell_type": "markdown",
   "metadata": {},
   "source": [
    "### Predicting default\n",
    "\n",
    "#### Assumptions:\n",
    "1. Using the column “loan_status” as the indicator for whether the loan was paid or\n",
    "there was a default.\n",
    "\n",
    "2. Dropping all rows where “loan_status” is not equal to either “Fully Paid” or “Charged Off.”\n",
    "\n",
    "3. Defining the new variable Default as 1 (or TRUE) if “loan_status” is equal to “Charged Off”,\n",
    "and 0 (or FALSE) otherwise.\n"
   ]
  },
  {
   "cell_type": "code",
   "execution_count": 37,
   "metadata": {},
   "outputs": [
    {
     "data": {},
     "metadata": {},
     "output_type": "display_data"
    }
   ],
   "source": [
    "rm(list = ls())\n",
    "if (!require(ggplot2)) install.packages(\"ggplot2\")\n",
    "if (!require(data.table)) install.packages(\"data.table\")\n",
    "if (!require(foreign)) install.packages(\"foreign\")\n",
    "if (!require(dplyr)) install.packages(\"dplyr\")\n",
    "if (!require(pROC)) install.packages(\"pROC\")\n",
    "\n",
    "\n",
    "setwd(\"D:/MFE/Curriculum/Fall 2018/Machine Learning/PS 3\")\n",
    "# Download data and set as data.table\n",
    "LendingClub_DT <- as.data.table(read.dta(\"LendingClub_LoanStats3a_v12.dta\"))\n",
    "# create status vector\n",
    "status <- c(\"Fully Paid\", \"Charged Off\")\n",
    "LendingClub <- LendingClub_DT[loan_status %in% status]\n",
    "# LendingClub[,Default:= loan_status== 'Charged Off']\n",
    "LendingClub[, `:=`(Default, ifelse(loan_status == \"Charged Off\", 1, 0))]"
   ]
  },
  {
   "cell_type": "markdown",
   "metadata": {},
   "source": [
    "### Average default rate in the sample"
   ]
  },
  {
   "cell_type": "code",
   "execution_count": 38,
   "metadata": {},
   "outputs": [
    {
     "data": {
      "text/html": [
       "0.143534963970364"
      ],
      "text/latex": [
       "0.143534963970364"
      ],
      "text/markdown": [
       "0.143534963970364"
      ],
      "text/plain": [
       "[1] 0.143535"
      ]
     },
     "metadata": {},
     "output_type": "display_data"
    }
   ],
   "source": [
    "(default_rate <- LendingClub[, mean(Default)])"
   ]
  },
  {
   "cell_type": "markdown",
   "metadata": {},
   "source": [
    "#### LendingClub gives a “grade” to each borrower, designed as a score of each borrowers’ creditworthiness. The best grade is “A”, the worst grade is “G”.\n",
    "\n",
    "#### Logistic regression and comparison with Null model\n"
   ]
  },
  {
   "cell_type": "code",
   "execution_count": 39,
   "metadata": {},
   "outputs": [
    {
     "data": {
      "text/plain": [
       "\n",
       "Call:\n",
       "glm(formula = Default ~ grade, family = \"binomial\", data = LendingClub)\n",
       "\n",
       "Deviance Residuals: \n",
       "    Min       1Q   Median       3Q      Max  \n",
       "-0.8827  -0.6077  -0.5053  -0.3511   2.3736  \n",
       "\n",
       "Coefficients:\n",
       "            Estimate Std. Error z value Pr(>|z|)    \n",
       "(Intercept) -2.75542    0.04203  -65.56   <2e-16 ***\n",
       "gradeB       0.76143    0.05061   15.04   <2e-16 ***\n",
       "gradeC       1.15967    0.05153   22.50   <2e-16 ***\n",
       "gradeD       1.46001    0.05381   27.13   <2e-16 ***\n",
       "gradeE       1.69834    0.06030   28.17   <2e-16 ***\n",
       "gradeF       1.97319    0.07933   24.87   <2e-16 ***\n",
       "gradeG       2.01395    0.12800   15.73   <2e-16 ***\n",
       "---\n",
       "Signif. codes:  0 '***' 0.001 '**' 0.01 '*' 0.05 '.' 0.1 ' ' 1\n",
       "\n",
       "(Dispersion parameter for binomial family taken to be 1)\n",
       "\n",
       "    Null deviance: 32423  on 39411  degrees of freedom\n",
       "Residual deviance: 30914  on 39405  degrees of freedom\n",
       "AIC: 30928\n",
       "\n",
       "Number of Fisher Scoring iterations: 5\n"
      ]
     },
     "metadata": {},
     "output_type": "display_data"
    }
   ],
   "source": [
    "out1 <- glm(Default ~ grade, family = \"binomial\", data = LendingClub)\n",
    "summary(out1)"
   ]
  },
  {
   "cell_type": "code",
   "execution_count": 40,
   "metadata": {},
   "outputs": [
    {
     "data": {
      "text/html": [
       "1508.09725567521"
      ],
      "text/latex": [
       "1508.09725567521"
      ],
      "text/markdown": [
       "1508.09725567521"
      ],
      "text/plain": [
       "[1] 1508.097"
      ]
     },
     "metadata": {},
     "output_type": "display_data"
    }
   ],
   "source": [
    "(test_stat <- out1$null.deviance - out1$deviance)"
   ]
  },
  {
   "cell_type": "code",
   "execution_count": 41,
   "metadata": {},
   "outputs": [
    {
     "data": {
      "text/html": [
       "6"
      ],
      "text/latex": [
       "6"
      ],
      "text/markdown": [
       "6"
      ],
      "text/plain": [
       "[1] 6"
      ]
     },
     "metadata": {},
     "output_type": "display_data"
    }
   ],
   "source": [
    "(df <- out1$df.null - out1$df.residual)"
   ]
  },
  {
   "cell_type": "code",
   "execution_count": 42,
   "metadata": {},
   "outputs": [
    {
     "data": {
      "text/html": [
       "0"
      ],
      "text/latex": [
       "0"
      ],
      "text/markdown": [
       "0"
      ],
      "text/plain": [
       "[1] 0"
      ]
     },
     "metadata": {},
     "output_type": "display_data"
    }
   ],
   "source": [
    "(pvalue_chisq <- 1 - pchisq(test_stat, df = df))"
   ]
  },
  {
   "cell_type": "code",
   "execution_count": 43,
   "metadata": {},
   "outputs": [
    {
     "data": {
      "text/html": [
       "<table>\n",
       "<thead><tr><th></th><th scope=col>Df</th><th scope=col>Deviance</th><th scope=col>Resid. Df</th><th scope=col>Resid. Dev</th></tr></thead>\n",
       "<tbody>\n",
       "\t<tr><th scope=row>NULL</th><td>NA      </td><td>      NA</td><td>39411   </td><td>32422.59</td></tr>\n",
       "\t<tr><th scope=row>grade</th><td> 6      </td><td>1508.097</td><td>39405   </td><td>30914.49</td></tr>\n",
       "</tbody>\n",
       "</table>\n"
      ],
      "text/latex": [
       "\\begin{tabular}{r|llll}\n",
       "  & Df & Deviance & Resid. Df & Resid. Dev\\\\\n",
       "\\hline\n",
       "\tNULL & NA       &       NA & 39411    & 32422.59\\\\\n",
       "\tgrade &  6       & 1508.097 & 39405    & 30914.49\\\\\n",
       "\\end{tabular}\n"
      ],
      "text/markdown": [
       "\n",
       "| <!--/--> | Df | Deviance | Resid. Df | Resid. Dev | \n",
       "|---|---|\n",
       "| NULL | NA       |       NA | 39411    | 32422.59 | \n",
       "| grade |  6       | 1508.097 | 39405    | 30914.49 | \n",
       "\n",
       "\n"
      ],
      "text/plain": [
       "      Df Deviance Resid. Df Resid. Dev\n",
       "NULL  NA       NA 39411     32422.59  \n",
       "grade  6 1508.097 39405     30914.49  "
      ]
     },
     "metadata": {},
     "output_type": "display_data"
    }
   ],
   "source": [
    "anova(out1)"
   ]
  },
  {
   "cell_type": "markdown",
   "metadata": {},
   "source": [
    "### Lift table and the ROC curve"
   ]
  },
  {
   "cell_type": "code",
   "execution_count": 44,
   "metadata": {},
   "outputs": [
    {
     "data": {},
     "metadata": {},
     "output_type": "display_data"
    },
    {
     "data": {
      "text/html": [
       "<table>\n",
       "<thead><tr><th scope=col>deciles</th><th scope=col>default</th><th scope=col>mean_response</th></tr></thead>\n",
       "<tbody>\n",
       "\t<tr><td> 1        </td><td>0.06900051</td><td>0.4807226 </td></tr>\n",
       "\t<tr><td> 2        </td><td>0.05404720</td><td>0.3765438 </td></tr>\n",
       "\t<tr><td> 3        </td><td>0.09058615</td><td>0.6311086 </td></tr>\n",
       "\t<tr><td> 4        </td><td>0.11875159</td><td>0.8273356 </td></tr>\n",
       "\t<tr><td> 5        </td><td>0.11494545</td><td>0.8008184 </td></tr>\n",
       "\t<tr><td> 6        </td><td>0.14738711</td><td>1.0268377 </td></tr>\n",
       "\t<tr><td> 7        </td><td>0.17026135</td><td>1.1862013 </td></tr>\n",
       "\t<tr><td> 8        </td><td>0.19132200</td><td>1.3329296 </td></tr>\n",
       "\t<tr><td> 9        </td><td>0.20629282</td><td>1.4372304 </td></tr>\n",
       "\t<tr><td>10        </td><td>0.27277341</td><td>1.9003970 </td></tr>\n",
       "</tbody>\n",
       "</table>\n"
      ],
      "text/latex": [
       "\\begin{tabular}{r|lll}\n",
       " deciles & default & mean\\_response\\\\\n",
       "\\hline\n",
       "\t  1         & 0.06900051 & 0.4807226 \\\\\n",
       "\t  2         & 0.05404720 & 0.3765438 \\\\\n",
       "\t  3         & 0.09058615 & 0.6311086 \\\\\n",
       "\t  4         & 0.11875159 & 0.8273356 \\\\\n",
       "\t  5         & 0.11494545 & 0.8008184 \\\\\n",
       "\t  6         & 0.14738711 & 1.0268377 \\\\\n",
       "\t  7         & 0.17026135 & 1.1862013 \\\\\n",
       "\t  8         & 0.19132200 & 1.3329296 \\\\\n",
       "\t  9         & 0.20629282 & 1.4372304 \\\\\n",
       "\t 10         & 0.27277341 & 1.9003970 \\\\\n",
       "\\end{tabular}\n"
      ],
      "text/markdown": [
       "\n",
       "deciles | default | mean_response | \n",
       "|---|---|---|---|---|---|---|---|---|---|\n",
       "|  1         | 0.06900051 | 0.4807226  | \n",
       "|  2         | 0.05404720 | 0.3765438  | \n",
       "|  3         | 0.09058615 | 0.6311086  | \n",
       "|  4         | 0.11875159 | 0.8273356  | \n",
       "|  5         | 0.11494545 | 0.8008184  | \n",
       "|  6         | 0.14738711 | 1.0268377  | \n",
       "|  7         | 0.17026135 | 1.1862013  | \n",
       "|  8         | 0.19132200 | 1.3329296  | \n",
       "|  9         | 0.20629282 | 1.4372304  | \n",
       "| 10         | 0.27277341 | 1.9003970  | \n",
       "\n",
       "\n"
      ],
      "text/plain": [
       "   deciles default    mean_response\n",
       "1   1      0.06900051 0.4807226    \n",
       "2   2      0.05404720 0.3765438    \n",
       "3   3      0.09058615 0.6311086    \n",
       "4   4      0.11875159 0.8273356    \n",
       "5   5      0.11494545 0.8008184    \n",
       "6   6      0.14738711 1.0268377    \n",
       "7   7      0.17026135 1.1862013    \n",
       "8   8      0.19132200 1.3329296    \n",
       "9   9      0.20629282 1.4372304    \n",
       "10 10      0.27277341 1.9003970    "
      ]
     },
     "metadata": {},
     "output_type": "display_data"
    }
   ],
   "source": [
    "# compute the 'lift' table\n",
    "phat1 <- predict(out1, type = \"response\")\n",
    "# use function ntile from dplyr to create deciles\n",
    "\n",
    "deciles1 <- ntile(phat1, n = 10)\n",
    "dt1 <- data.table(deciles = deciles1, phat = phat1, default = LendingClub$Default)\n",
    "lift1 <- dt1[, lapply(.SD, mean), by = deciles]\n",
    "lift1 <- lift1[, .(deciles, default)]\n",
    "lift1[, `:=`(mean_response, default/mean(LendingClub$Default))]\n",
    "setkey(lift1, deciles)\n",
    "lift1"
   ]
  },
  {
   "cell_type": "code",
   "execution_count": 45,
   "metadata": {},
   "outputs": [
    {
     "data": {},
     "metadata": {},
     "output_type": "display_data"
    },
    {
     "data": {
      "image/png": "[encoded data removed]",
      "text/plain": [
       "plot without title"
      ]
     },
     "metadata": {},
     "output_type": "display_data"
    }
   ],
   "source": [
    "# compute a ROC curve define a function that creates the true and false\n",
    "# positive rates\n",
    "simple_roc <- function(labels, scores) {\n",
    "labels <- labels[order(scores, decreasing = TRUE)]\n",
    "data.frame(TPR = cumsum(labels)/sum(labels), FPR = cumsum(!labels)/sum(!labels),\n",
    "labels)\n",
    "}\n",
    "glm1_roc <- simple_roc(LendingClub$Default == \"1\", phat1)\n",
    "TPR1 <- glm1_roc$TPR\n",
    "FPR1 <- glm1_roc$FPR\n",
    "data1 <- data.table(TPR = TPR1, FPR = FPR1)\n",
    "# plot the corresponding ROC curve\n",
    "ggplot(data1, aes(x = FPR, y = TPR)) + geom_line(color = \"tomato2\", size = 1.2) +\n",
    "ggtitle(\"ROC Curve for Lending Club Logit Default Model 1\") + geom_abline(slope = 1,\n",
    "intercept = 0, linetype = \"longdash\") + theme_bw()"
   ]
  },
  {
   "cell_type": "code",
   "execution_count": 46,
   "metadata": {},
   "outputs": [
    {
     "data": {
      "image/png": "[encoded data removed]",
      "text/plain": [
       "plot without title"
      ]
     },
     "metadata": {},
     "output_type": "display_data"
    }
   ],
   "source": [
    "# (optional) can use pROC library in R to plot the ROC curve; probably the\n",
    "# better choice in a business setting\n",
    "\n",
    "myROC <- roc(response = LendingClub$Default, predictor = phat1, smooth = TRUE,\n",
    "plot = TRUE, grid = TRUE)"
   ]
  },
  {
   "cell_type": "markdown",
   "metadata": {},
   "source": [
    "#### Cutoff default probability using as decision criterion to maximize profits, using ROC curve (True Positive Rate and False Positive Rate): \n",
    "Assumptions: Each loan is for USD 100, and that you make a USD 1 profit if there is no default, but\n",
    "lose $10 if there is a default."
   ]
  },
  {
   "cell_type": "code",
   "execution_count": 47,
   "metadata": {},
   "outputs": [
    {
     "data": {},
     "metadata": {},
     "output_type": "display_data"
    },
    {
     "data": {},
     "metadata": {},
     "output_type": "display_data"
    },
    {
     "data": {},
     "metadata": {},
     "output_type": "display_data"
    },
    {
     "data": {},
     "metadata": {},
     "output_type": "display_data"
    },
    {
     "data": {},
     "metadata": {},
     "output_type": "display_data"
    },
    {
     "data": {
      "text/html": [
       "<table>\n",
       "<thead><tr><th scope=col>TPR</th><th scope=col>FPR</th><th scope=col>Profit</th><th scope=col>Default</th><th scope=col>Cutoff_prob</th><th scope=col>Expected_Payoff</th><th scope=col>Max_Payoff</th></tr></thead>\n",
       "<tbody>\n",
       "\t<tr><td>0.9004773 </td><td>0.7283069 </td><td>1         </td><td>-10       </td><td>0.08984573</td><td>3541      </td><td>3541      </td></tr>\n",
       "</tbody>\n",
       "</table>\n"
      ],
      "text/latex": [
       "\\begin{tabular}{r|lllllll}\n",
       " TPR & FPR & Profit & Default & Cutoff\\_prob & Expected\\_Payoff & Max\\_Payoff\\\\\n",
       "\\hline\n",
       "\t 0.9004773  & 0.7283069  & 1          & -10        & 0.08984573 & 3541       & 3541      \\\\\n",
       "\\end{tabular}\n"
      ],
      "text/markdown": [
       "\n",
       "TPR | FPR | Profit | Default | Cutoff_prob | Expected_Payoff | Max_Payoff | \n",
       "|---|\n",
       "| 0.9004773  | 0.7283069  | 1          | -10        | 0.08984573 | 3541       | 3541       | \n",
       "\n",
       "\n"
      ],
      "text/plain": [
       "  TPR       FPR       Profit Default Cutoff_prob Expected_Payoff Max_Payoff\n",
       "1 0.9004773 0.7283069 1      -10     0.08984573  3541            3541      "
      ]
     },
     "metadata": {},
     "output_type": "display_data"
    }
   ],
   "source": [
    "# Calculate the maximum expected payoff\n",
    "Data_iv = copy(data1)\n",
    "Data_iv[, `:=`(Profit, 1)]\n",
    "Data_iv[, `:=`(Default, -10)]\n",
    "Data_iv[, `:=`(Cutoff_prob, Profit * (1 - FPR) * (1 - default_rate) + Default *\n",
    "(1 - TPR) * default_rate)]\n",
    "Data_iv[, `:=`(Expected_Payoff, Cutoff_prob * nrow(LendingClub))]\n",
    "Data_iv[, `:=`(Max_Payoff, max(Expected_Payoff))]\n",
    "Data_iv[Expected_Payoff == Max_Payoff]"
   ]
  },
  {
   "cell_type": "code",
   "execution_count": 48,
   "metadata": {},
   "outputs": [
    {
     "data": {},
     "metadata": {},
     "output_type": "display_data"
    },
    {
     "data": {
      "image/png": "[encoded data removed]",
      "text/plain": [
       "plot without title"
      ]
     },
     "metadata": {},
     "output_type": "display_data"
    }
   ],
   "source": [
    "# plot the corresponding ROC curve\n",
    "ggplot(data1, aes(x = FPR, y = TPR)) + geom_line(color = \"tomato2\", size = 1.2) +\n",
    "ggtitle(\"ROC Curve for Lending Club Logit Default Model 1\") + geom_abline(slope = 1,\n",
    "intercept = 0, linetype = \"longdash\") + geom_point(aes(x = Data_iv[Expected_Payoff ==\n",
    "Max_Payoff]$FPR, y = Data_iv[Expected_Payoff == Max_Payoff]$TPR), colour = \"blue\") +\n",
    "theme_bw()"
   ]
  },
  {
   "cell_type": "markdown",
   "metadata": {},
   "source": [
    "### Logit models with loan_amount and annual_income as explanatory variable (instead of grade A, B, C..) and then comparison with Grade model using ROC curve and Lift table"
   ]
  },
  {
   "cell_type": "code",
   "execution_count": 50,
   "metadata": {},
   "outputs": [
    {
     "name": "stderr",
     "output_type": "stream",
     "text": [
      "Warning message:\n",
      "\"glm.fit: fitted probabilities numerically 0 or 1 occurred\""
     ]
    },
    {
     "data": {
      "text/plain": [
       "\n",
       "Call:\n",
       "glm(formula = Default ~ loan_amnt + annual_inc, family = \"binomial\", \n",
       "    data = LendingClub)\n",
       "\n",
       "Deviance Residuals: \n",
       "    Min       1Q   Median       3Q      Max  \n",
       "-0.8525  -0.5832  -0.5393  -0.4766   4.4804  \n",
       "\n",
       "Coefficients:\n",
       "              Estimate Std. Error z value Pr(>|z|)    \n",
       "(Intercept) -1.725e+00  3.213e-02  -53.71   <2e-16 ***\n",
       "loan_amnt    3.484e-05  2.081e-06   16.74   <2e-16 ***\n",
       "annual_inc  -7.089e-06  4.663e-07  -15.20   <2e-16 ***\n",
       "---\n",
       "Signif. codes:  0 '***' 0.001 '**' 0.01 '*' 0.05 '.' 0.1 ' ' 1\n",
       "\n",
       "(Dispersion parameter for binomial family taken to be 1)\n",
       "\n",
       "    Null deviance: 32423  on 39411  degrees of freedom\n",
       "Residual deviance: 32027  on 39409  degrees of freedom\n",
       "AIC: 32033\n",
       "\n",
       "Number of Fisher Scoring iterations: 5\n"
      ]
     },
     "metadata": {},
     "output_type": "display_data"
    }
   ],
   "source": [
    "out2 <- glm(Default ~ loan_amnt + annual_inc, data = LendingClub, family = \"binomial\")\n",
    "summary(out2)"
   ]
  },
  {
   "cell_type": "code",
   "execution_count": 51,
   "metadata": {},
   "outputs": [
    {
     "data": {},
     "metadata": {},
     "output_type": "display_data"
    },
    {
     "data": {
      "text/html": [
       "<table>\n",
       "<thead><tr><th scope=col>deciles</th><th scope=col>default</th><th scope=col>mean_response</th></tr></thead>\n",
       "<tbody>\n",
       "\t<tr><td> 1        </td><td>0.08853374</td><td>0.6168096 </td></tr>\n",
       "\t<tr><td> 2        </td><td>0.10454199</td><td>0.7283382 </td></tr>\n",
       "\t<tr><td> 3        </td><td>0.11215428</td><td>0.7813725 </td></tr>\n",
       "\t<tr><td> 4        </td><td>0.12636387</td><td>0.8803699 </td></tr>\n",
       "\t<tr><td> 5        </td><td>0.13270743</td><td>0.9245652 </td></tr>\n",
       "\t<tr><td> 6        </td><td>0.14256722</td><td>0.9932578 </td></tr>\n",
       "\t<tr><td> 7        </td><td>0.15351434</td><td>1.0695257 </td></tr>\n",
       "\t<tr><td> 8        </td><td>0.14970820</td><td>1.0430086 </td></tr>\n",
       "\t<tr><td> 9        </td><td>0.20248668</td><td>1.4107133 </td></tr>\n",
       "\t<tr><td>10        </td><td>0.22278609</td><td>1.5521382 </td></tr>\n",
       "</tbody>\n",
       "</table>\n"
      ],
      "text/latex": [
       "\\begin{tabular}{r|lll}\n",
       " deciles & default & mean\\_response\\\\\n",
       "\\hline\n",
       "\t  1         & 0.08853374 & 0.6168096 \\\\\n",
       "\t  2         & 0.10454199 & 0.7283382 \\\\\n",
       "\t  3         & 0.11215428 & 0.7813725 \\\\\n",
       "\t  4         & 0.12636387 & 0.8803699 \\\\\n",
       "\t  5         & 0.13270743 & 0.9245652 \\\\\n",
       "\t  6         & 0.14256722 & 0.9932578 \\\\\n",
       "\t  7         & 0.15351434 & 1.0695257 \\\\\n",
       "\t  8         & 0.14970820 & 1.0430086 \\\\\n",
       "\t  9         & 0.20248668 & 1.4107133 \\\\\n",
       "\t 10         & 0.22278609 & 1.5521382 \\\\\n",
       "\\end{tabular}\n"
      ],
      "text/markdown": [
       "\n",
       "deciles | default | mean_response | \n",
       "|---|---|---|---|---|---|---|---|---|---|\n",
       "|  1         | 0.08853374 | 0.6168096  | \n",
       "|  2         | 0.10454199 | 0.7283382  | \n",
       "|  3         | 0.11215428 | 0.7813725  | \n",
       "|  4         | 0.12636387 | 0.8803699  | \n",
       "|  5         | 0.13270743 | 0.9245652  | \n",
       "|  6         | 0.14256722 | 0.9932578  | \n",
       "|  7         | 0.15351434 | 1.0695257  | \n",
       "|  8         | 0.14970820 | 1.0430086  | \n",
       "|  9         | 0.20248668 | 1.4107133  | \n",
       "| 10         | 0.22278609 | 1.5521382  | \n",
       "\n",
       "\n"
      ],
      "text/plain": [
       "   deciles default    mean_response\n",
       "1   1      0.08853374 0.6168096    \n",
       "2   2      0.10454199 0.7283382    \n",
       "3   3      0.11215428 0.7813725    \n",
       "4   4      0.12636387 0.8803699    \n",
       "5   5      0.13270743 0.9245652    \n",
       "6   6      0.14256722 0.9932578    \n",
       "7   7      0.15351434 1.0695257    \n",
       "8   8      0.14970820 1.0430086    \n",
       "9   9      0.20248668 1.4107133    \n",
       "10 10      0.22278609 1.5521382    "
      ]
     },
     "metadata": {},
     "output_type": "display_data"
    }
   ],
   "source": [
    "# compute the 'lift' table\n",
    "phat2 <- predict(out2, type = \"response\")\n",
    "deciles2 <- ntile(phat2, 10)\n",
    "dt2 <- data.table(deciles = deciles2, phat = phat2, default = LendingClub$Default)\n",
    "lift2 <- dt2[, lapply(.SD, mean), by = deciles]\n",
    "lift2 <- lift2[, .(deciles, default)]\n",
    "lift2[, `:=`(mean_response, default/mean(LendingClub$Default))]\n",
    "setkey(lift2, deciles)\n",
    "lift2"
   ]
  },
  {
   "cell_type": "code",
   "execution_count": 53,
   "metadata": {},
   "outputs": [
    {
     "data": {},
     "metadata": {},
     "output_type": "display_data"
    },
    {
     "data": {},
     "metadata": {},
     "output_type": "display_data"
    },
    {
     "data": {},
     "metadata": {},
     "output_type": "display_data"
    },
    {
     "data": {
      "image/png": "[encoded data removed]",
      "text/plain": [
       "plot without title"
      ]
     },
     "metadata": {},
     "output_type": "display_data"
    }
   ],
   "source": [
    "glm2_roc <- simple_roc(LendingClub$Default == \"1\", phat2)\n",
    "TPR2 <- glm2_roc$TPR\n",
    "FPR2 <- glm2_roc$FPR\n",
    "data2 <- data.table(TPR = TPR2, FPR = FPR2)\n",
    "data1[, `:=`(Model, \"Model 1(Grade model)\")]\n",
    "data2[, `:=`(Model, \"Model 2 (income_loan model)\")]\n",
    "data <- rbind(data1, data2)\n",
    "# plot the corresponding ROC curve\n",
    "ggplot(data, aes(x = FPR, y = TPR, color = Model)) + geom_line(size = 1.2) +\n",
    "ggtitle(\"ROC Curve for Lending Club Logit Default Models 1, and 2\") + geom_abline(slope = 1,\n",
    "intercept = 0, linetype = \"longdash\") + theme_bw()"
   ]
  },
  {
   "cell_type": "markdown",
   "metadata": {},
   "source": [
    "Grade model look better as per ROC curve"
   ]
  },
  {
   "cell_type": "markdown",
   "metadata": {},
   "source": [
    "#### Including the maturity of the loan (term) and the interest rate (int_rate) in the logistic regression"
   ]
  },
  {
   "cell_type": "code",
   "execution_count": 55,
   "metadata": {},
   "outputs": [
    {
     "name": "stderr",
     "output_type": "stream",
     "text": [
      "Warning message:\n",
      "\"glm.fit: fitted probabilities numerically 0 or 1 occurred\""
     ]
    },
    {
     "data": {
      "text/plain": [
       "\n",
       "Call:\n",
       "glm(formula = Default ~ loan_amnt + annual_inc + term + int_rate, \n",
       "    family = \"binomial\", data = LendingClub)\n",
       "\n",
       "Deviance Residuals: \n",
       "    Min       1Q   Median       3Q      Max  \n",
       "-1.2520  -0.5868  -0.4694  -0.3598   4.1684  \n",
       "\n",
       "Coefficients:\n",
       "                 Estimate Std. Error z value Pr(>|z|)    \n",
       "(Intercept)    -3.266e+00  6.055e-02 -53.942   <2e-16 ***\n",
       "loan_amnt       1.176e-06  2.311e-06   0.509    0.611    \n",
       "annual_inc     -6.117e-06  4.643e-07 -13.173   <2e-16 ***\n",
       "term 60 months  4.538e-01  3.564e-02  12.732   <2e-16 ***\n",
       "int_rate        1.349e+01  4.560e-01  29.575   <2e-16 ***\n",
       "---\n",
       "Signif. codes:  0 '***' 0.001 '**' 0.01 '*' 0.05 '.' 0.1 ' ' 1\n",
       "\n",
       "(Dispersion parameter for binomial family taken to be 1)\n",
       "\n",
       "    Null deviance: 32423  on 39411  degrees of freedom\n",
       "Residual deviance: 30418  on 39407  degrees of freedom\n",
       "AIC: 30428\n",
       "\n",
       "Number of Fisher Scoring iterations: 5\n"
      ]
     },
     "metadata": {},
     "output_type": "display_data"
    }
   ],
   "source": [
    "out3 <- glm(Default ~ loan_amnt + annual_inc + term + int_rate, data = LendingClub,\n",
    "family = \"binomial\")\n",
    "summary(out3)"
   ]
  },
  {
   "cell_type": "code",
   "execution_count": 56,
   "metadata": {},
   "outputs": [
    {
     "data": {},
     "metadata": {},
     "output_type": "display_data"
    },
    {
     "data": {
      "text/html": [
       "<table>\n",
       "<thead><tr><th scope=col>deciles</th><th scope=col>default</th><th scope=col>mean_response</th></tr></thead>\n",
       "<tbody>\n",
       "\t<tr><td> 1        </td><td>0.03652968</td><td>0.2545002 </td></tr>\n",
       "\t<tr><td> 2        </td><td>0.06368942</td><td>0.4437206 </td></tr>\n",
       "\t<tr><td> 3        </td><td>0.08043644</td><td>0.5603961 </td></tr>\n",
       "\t<tr><td> 4        </td><td>0.09895965</td><td>0.6894463 </td></tr>\n",
       "\t<tr><td> 5        </td><td>0.11646790</td><td>0.8114253 </td></tr>\n",
       "\t<tr><td> 6        </td><td>0.14510401</td><td>1.0109314 </td></tr>\n",
       "\t<tr><td> 7        </td><td>0.15808171</td><td>1.1013463 </td></tr>\n",
       "\t<tr><td> 8        </td><td>0.18726212</td><td>1.3046446 </td></tr>\n",
       "\t<tr><td> 9        </td><td>0.23598072</td><td>1.6440643 </td></tr>\n",
       "\t<tr><td>10        </td><td>0.31286476</td><td>2.1797111 </td></tr>\n",
       "</tbody>\n",
       "</table>\n"
      ],
      "text/latex": [
       "\\begin{tabular}{r|lll}\n",
       " deciles & default & mean\\_response\\\\\n",
       "\\hline\n",
       "\t  1         & 0.03652968 & 0.2545002 \\\\\n",
       "\t  2         & 0.06368942 & 0.4437206 \\\\\n",
       "\t  3         & 0.08043644 & 0.5603961 \\\\\n",
       "\t  4         & 0.09895965 & 0.6894463 \\\\\n",
       "\t  5         & 0.11646790 & 0.8114253 \\\\\n",
       "\t  6         & 0.14510401 & 1.0109314 \\\\\n",
       "\t  7         & 0.15808171 & 1.1013463 \\\\\n",
       "\t  8         & 0.18726212 & 1.3046446 \\\\\n",
       "\t  9         & 0.23598072 & 1.6440643 \\\\\n",
       "\t 10         & 0.31286476 & 2.1797111 \\\\\n",
       "\\end{tabular}\n"
      ],
      "text/markdown": [
       "\n",
       "deciles | default | mean_response | \n",
       "|---|---|---|---|---|---|---|---|---|---|\n",
       "|  1         | 0.03652968 | 0.2545002  | \n",
       "|  2         | 0.06368942 | 0.4437206  | \n",
       "|  3         | 0.08043644 | 0.5603961  | \n",
       "|  4         | 0.09895965 | 0.6894463  | \n",
       "|  5         | 0.11646790 | 0.8114253  | \n",
       "|  6         | 0.14510401 | 1.0109314  | \n",
       "|  7         | 0.15808171 | 1.1013463  | \n",
       "|  8         | 0.18726212 | 1.3046446  | \n",
       "|  9         | 0.23598072 | 1.6440643  | \n",
       "| 10         | 0.31286476 | 2.1797111  | \n",
       "\n",
       "\n"
      ],
      "text/plain": [
       "   deciles default    mean_response\n",
       "1   1      0.03652968 0.2545002    \n",
       "2   2      0.06368942 0.4437206    \n",
       "3   3      0.08043644 0.5603961    \n",
       "4   4      0.09895965 0.6894463    \n",
       "5   5      0.11646790 0.8114253    \n",
       "6   6      0.14510401 1.0109314    \n",
       "7   7      0.15808171 1.1013463    \n",
       "8   8      0.18726212 1.3046446    \n",
       "9   9      0.23598072 1.6440643    \n",
       "10 10      0.31286476 2.1797111    "
      ]
     },
     "metadata": {},
     "output_type": "display_data"
    }
   ],
   "source": [
    "# compute the 'lift' table\n",
    "phat3 <- predict(out3, type = \"response\")\n",
    "deciles3 <- ntile(phat3, 10)\n",
    "dt3 <- data.table(deciles = deciles3, phat = phat3, default = LendingClub$Default)\n",
    "lift3 <- dt3[, lapply(.SD, mean), by = deciles]\n",
    "lift3 <- lift3[, .(deciles, default)]\n",
    "lift3[, `:=`(mean_response, default/mean(LendingClub$Default))]\n",
    "setkey(lift3, deciles)\n",
    "lift3"
   ]
  },
  {
   "cell_type": "code",
   "execution_count": 57,
   "metadata": {},
   "outputs": [
    {
     "data": {},
     "metadata": {},
     "output_type": "display_data"
    },
    {
     "data": {},
     "metadata": {},
     "output_type": "display_data"
    },
    {
     "data": {
      "image/png": "[encoded data removed]",
      "text/plain": [
       "plot without title"
      ]
     },
     "metadata": {},
     "output_type": "display_data"
    }
   ],
   "source": [
    "glm3_roc <- simple_roc(LendingClub$Default == \"1\", phat3)\n",
    "TPR3 <- glm3_roc$TPR\n",
    "FPR3 <- glm3_roc$FPR\n",
    "data3 <- data.table(TPR = TPR3, FPR = FPR3)\n",
    "data3[, `:=`(Model, \"Model 3\")]\n",
    "data <- rbind(data, data3)\n",
    "# plot the corresponding ROC curve\n",
    "ggplot(data, aes(x = FPR, y = TPR, color = Model)) + geom_line(size = 1.2) +\n",
    "ggtitle(\"ROC Curve for Lending Club Logit Default Models 1,2, and 3\") +\n",
    "geom_abline(slope = 1, intercept = 0, linetype = \"longdash\") + theme_bw()"
   ]
  },
  {
   "cell_type": "markdown",
   "metadata": {},
   "source": [
    "### Summary\n",
    "\n",
    "• loan_amnt: predicts default positively, the higher the loan amount the more likely is the individual to\n",
    "default\n",
    "\n",
    "• annual_income: predicts defaults negatively, the higher is the individual’s income the less likely is the\n",
    "default\n",
    "\n",
    "• term 60 months: predicts default positively, the longer the loan term the more likely is the individual\n",
    "to default\n",
    "\n",
    "• int_rate: predicts default positively, the higher the interest rate on the loan the more likely is the\n",
    "individual to default,"
   ]
  },
  {
   "cell_type": "markdown",
   "metadata": {},
   "source": [
    "### From the ROC curve, we see this model performs better than the last two models since the area under the ROC curve is larger for Model 3\n",
    "\n",
    "Explanation for the outperformance of Model 3 relative to Model 1: in Model 1 the only independent variable\n",
    "is grade which corresponds to the creditworthiness of the individual (similar to a FICO score). However,\n",
    "there may be other factor determining the default of a loan that are not accounted for in the the assigned\n",
    "grade, such as the interest rate on the loan"
   ]
  },
  {
   "cell_type": "markdown",
   "metadata": {},
   "source": [
    "### Adding squared of the interest rate as another term in the model"
   ]
  },
  {
   "cell_type": "code",
   "execution_count": 59,
   "metadata": {},
   "outputs": [
    {
     "data": {},
     "metadata": {},
     "output_type": "display_data"
    },
    {
     "name": "stderr",
     "output_type": "stream",
     "text": [
      "Warning message:\n",
      "\"glm.fit: fitted probabilities numerically 0 or 1 occurred\""
     ]
    },
    {
     "data": {
      "text/plain": [
       "\n",
       "Call:\n",
       "glm(formula = Default ~ loan_amnt + annual_inc + term + int_rate + \n",
       "    int_rate_sq, family = \"binomial\", data = LendingClub)\n",
       "\n",
       "Deviance Residuals: \n",
       "    Min       1Q   Median       3Q      Max  \n",
       "-1.0836  -0.5992  -0.4734  -0.3400   4.1124  \n",
       "\n",
       "Coefficients:\n",
       "                 Estimate Std. Error z value Pr(>|z|)    \n",
       "(Intercept)    -4.035e+00  1.667e-01 -24.201  < 2e-16 ***\n",
       "loan_amnt       1.934e-06  2.307e-06   0.838    0.402    \n",
       "annual_inc     -5.982e-06  4.635e-07 -12.905  < 2e-16 ***\n",
       "term 60 months  4.680e-01  3.548e-02  13.190  < 2e-16 ***\n",
       "int_rate        2.553e+01  2.458e+00  10.385  < 2e-16 ***\n",
       "int_rate_sq    -4.494e+01  8.985e+00  -5.002 5.67e-07 ***\n",
       "---\n",
       "Signif. codes:  0 '***' 0.001 '**' 0.01 '*' 0.05 '.' 0.1 ' ' 1\n",
       "\n",
       "(Dispersion parameter for binomial family taken to be 1)\n",
       "\n",
       "    Null deviance: 32423  on 39411  degrees of freedom\n",
       "Residual deviance: 30393  on 39406  degrees of freedom\n",
       "AIC: 30405\n",
       "\n",
       "Number of Fisher Scoring iterations: 5\n"
      ]
     },
     "metadata": {},
     "output_type": "display_data"
    }
   ],
   "source": [
    "LendingClub[, `:=`(int_rate_sq, int_rate * int_rate)]\n",
    "out4 <- glm(Default ~ loan_amnt + annual_inc + term + int_rate + int_rate_sq,\n",
    "data = LendingClub, family = \"binomial\")\n",
    "summary(out4)"
   ]
  },
  {
   "cell_type": "code",
   "execution_count": null,
   "metadata": {},
   "outputs": [],
   "source": []
  }
 ],
 "metadata": {
  "kernelspec": {
   "display_name": "R",
   "language": "R",
   "name": "ir"
  },
  "language_info": {
   "codemirror_mode": "r",
   "file_extension": ".r",
   "mimetype": "text/x-r-source",
   "name": "R",
   "pygments_lexer": "r",
   "version": "3.5.0"
  }
 },
 "nbformat": 4,
 "nbformat_minor": 2
}
